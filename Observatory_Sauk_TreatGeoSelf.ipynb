{
 "cells": [
  {
   "cell_type": "markdown",
   "metadata": {},
   "source": [
    "\n",
    "# A Notebook to TreatGeoSelf to easy access gridded climate time series data (Case study:  the Sauk-Suiattle Watershed )\n",
    "<img src= \"http://www.sauk-suiattle.com/images/Elliott.jpg\"\n",
    "style=\"float:left;width:150px;padding:20px\">   \n",
    "This data is compiled to digitally observe the Sauk-Suiattle Watershed, powered by HydroShare. <br />\n",
    "<br />\n",
    "Use this Jupyter Notebook to: <br /> \n",
    "Generate a list of available gridded data points in your area of interest, <br /> \n",
    "Download Livneh daily 1/16 degree gridded climate data, <br /> \n",
    "Download WRF daily 1/16 degree gridded climate data, <br /> \n",
    "Compare daily, monthly, and annual temperature and precipitation data. <br /> \n",
    "Visualize modeled streamflow results relative to the forcing data and observed streamflow. <br /> \n",
    "<br /> <br /> <br /> <img src=\"https://www.washington.edu/brand/files/2014/09/W-Logo_Purple_Hex.png\" style=\"float:right;width:120px;padding:20px\">  \n",
    "#### A Watershed Dynamics Model by the Watershed Dynamics Research Group in the Civil and Environmental Engineering Department at the University of Washington "
   ]
  },
  {
   "cell_type": "markdown",
   "metadata": {},
   "source": [
    "## 1.  HydroShare Setup and Preparation\n",
    "\n",
    "To run this notebook, we must import several libaries. These are listed in order of 1) Python standard libraries, 2) hs_utils library provides functions for interacting with HydroShare, including resource querying, dowloading and creation, and 3) the observatory_gridded_hydromet library that is downloaded with this notebook. "
   ]
  },
  {
   "cell_type": "markdown",
   "metadata": {},
   "source": [
    "If the python library fiona is not installed, please run the following lines in terminal, and choose 'y' when prompted. <br/>\n",
    "conda install -c conda-forge fiona <br>\n",
    "pip install fiona"
   ]
  },
  {
   "cell_type": "code",
   "execution_count": null,
   "metadata": {},
   "outputs": [],
   "source": [
    "!pip install descartes"
   ]
  },
  {
   "cell_type": "code",
   "execution_count": null,
   "metadata": {},
   "outputs": [],
   "source": [
    "\n",
    "\n",
    "#eachkey = [bcvar for bcvar in BiasCorr_df.columns if bcvar.startswith(eachvar)]"
   ]
  },
  {
   "cell_type": "code",
   "execution_count": null,
   "metadata": {
    "scrolled": false
   },
   "outputs": [],
   "source": [
    "import os\n",
    "import numpy as np\n",
    "import pandas as pd\n",
    "from datetime import datetime, timedelta\n",
    "from utilities import hydroshare\n",
    "import ogh"
   ]
  },
  {
   "cell_type": "code",
   "execution_count": null,
   "metadata": {
    "collapsed": true
   },
   "outputs": [],
   "source": [
    "import matplotlib as mpl\n",
    "import matplotlib.pyplot as plt\n",
    "%matplotlib inline\n",
    "import fiona\n",
    "from shapely.geometry import shape, point, MultiPolygon, box\n",
    "\n",
    "from descartes import PolygonPatch\n",
    "from matplotlib.collections import PatchCollection\n",
    "from mpl_toolkits.basemap import Basemap\n",
    "from mpl_toolkits.axes_grid1 import make_axes_locatable"
   ]
  },
  {
   "cell_type": "markdown",
   "metadata": {},
   "source": [
    "Establish a secure connection with HydroShare by instantiating the hydroshare class that is defined within hs_utils. In addition to connecting with HydroShare, this command also sets and prints environment variables for several parameters that will be useful for saving work back to HydroShare. "
   ]
  },
  {
   "cell_type": "code",
   "execution_count": null,
   "metadata": {
    "scrolled": false
   },
   "outputs": [],
   "source": [
    "hs=hydroshare.hydroshare()\n",
    "homedir = ogh.mapContentFolder(str(os.environ[\"HS_RES_ID\"]))\n",
    "print('Data will be loaded from and save to:'+homedir)"
   ]
  },
  {
   "cell_type": "markdown",
   "metadata": {},
   "source": [
    "If you are curious about where the data is being downloaded, click on the Jupyter Notebook dashboard icon to return to the File System view.  The homedir directory location printed above is where you can find the data and contents you will download to a HydroShare JupyterHub server.  At the end of this work session, you can migrate this data to the HydroShare iRods server as a Generic Resource. "
   ]
  },
  {
   "cell_type": "markdown",
   "metadata": {},
   "source": [
    "## 2. Get list of gridded climate points for the watershed\n",
    "\n",
    "This example uses a shapefile with the watershed boundary of the Sauk-Suiattle Basin, which is stored in HydroShare at the following url: https://www.hydroshare.org/resource/c532e0578e974201a0bc40a37ef2d284/. \n",
    "\n",
    "The data for our processing routines can be retrieved using the getResourceFromHydroShare function by passing in the global identifier from the url above.  In the next cell, we download this resource from HydroShare, and identify that the points in this resource are available for downloading gridded hydrometeorology data, based on the point shapefile at https://www.hydroshare.org/resource/ef2d82bf960144b4bfb1bae6242bcc7f/, which is for the extent of North America and includes the average elevation for each 1/16 degree grid cell.  The file must include columns with station numbers, latitude, longitude, and elevation. The header of these columns must be FID, LAT, LONG_, and ELEV or RASTERVALU, respectively. The station numbers will be used for the remainder of the code to uniquely reference data from each climate station, as well as to identify minimum, maximum, and average elevation of all of the climate stations.  The webserice is currently set to a URL for the smallest geographic overlapping extent - e.g. WRF for Columbia River Basin (to use a limit using data from a FTP service, treatgeoself() would need to be edited in observatory_gridded_hydrometeorology utility). "
   ]
  },
  {
   "cell_type": "code",
   "execution_count": null,
   "metadata": {
    "scrolled": false
   },
   "outputs": [],
   "source": [
    "#Your model extent\n",
    "hs.getResourceFromHydroShare('c532e0578e974201a0bc40a37ef2d284')\n",
    "shapefile = hs.content['wbdhuc12_17110006_WGS84.shp']\n",
    "\n",
    "# List of available data\n",
    "hs.getResourceFromHydroShare('ef2d82bf960144b4bfb1bae6242bcc7f')\n",
    "NAmer = hs.content['NAmer_dem_list.shp']\n",
    "\n",
    "# Generate list of stations to download\n",
    "mappingfile = ogh.treatgeoself(shapefile=shapefile, \n",
    "                               NAmer=NAmer,\n",
    "                               folder_path=os.getcwd(), \n",
    "                               outfilename='monkeysonatree.csv',\n",
    "                               buffer_distance=0.06)\n",
    "print(mappingfile)"
   ]
  },
  {
   "cell_type": "markdown",
   "metadata": {},
   "source": [
    " ## 3. Download climate data "
   ]
  },
  {
   "cell_type": "markdown",
   "metadata": {},
   "source": [
    "### Get Daily Meteorologic Data (1915-2011) from Livneh et al. 2013 \n",
    "\n",
    "The functions used in this section apply to hydrometeorology data within the Continental United States with daily data 1915-2011. <br/>\n",
    "View data extent at  Livneh, B. (2017). Gridded climatology locations (1/16th degree): Continental United States extent, HydroShare, http://www.hydroshare.org/resource/14f0a6619c6b45cc90d1f8cabc4129af\n",
    "\n",
    "Please cite: <br/>\n",
    "Livneh B., E.A. Rosenberg, C. Lin, B. Nijssen, V. Mishra, K.M. Andreadis, E.P. Maurer, and D.P. Lettenmaier, 2013: A Long-Term Hydrologically Based Dataset of Land Surface Fluxes and States for the Conterminous United States: Update and Extensions, Journal of Climate, 26, 9384–9392.<br/>\n",
    "<br/>\n",
    "The getClimateData_DailyMET_livneh2013() function reads in the mapping file table, downloads, and unzips the data files for each of the longitude and latitude points. The folder containing the data is within the directory listed as homedir. "
   ]
  },
  {
   "cell_type": "code",
   "execution_count": null,
   "metadata": {
    "scrolled": true
   },
   "outputs": [],
   "source": [
    "Daily_MET_1915_2011 = ogh.getDailyMET_livneh2013(homedir, mappingfile)"
   ]
  },
  {
   "cell_type": "code",
   "execution_count": null,
   "metadata": {},
   "outputs": [],
   "source": [
    "climate_df, nstations = ogh.mappingfileToDF(mappingfile, colvar='all')"
   ]
  },
  {
   "cell_type": "markdown",
   "metadata": {},
   "source": [
    "### Get Meteorologic climate data (1950-2013) from Livneh et al. 2015\n",
    "\n",
    "The functions used in this section apply to hydrometeorology data is within the North America area with daily data 1950-2013. View the data extent from this HydroShare resource: Livneh, B. (2017). Gridded climatology locations (1/16th degree): North American extent, HydroShare,  http://www.hydroshare.org/resource/ef2d82bf960144b4bfb1bae6242bcc7f\n",
    "\n",
    "Please cite: <br/>\n",
    "Livneh B., T.J. Bohn, D.S. Pierce, F. Munoz-Ariola, B. Nijssen, R. Vose, D. Cayan, and L.D. Brekke, 2015: A spatially comprehensive, hydrometeorological data set for Mexico, the U.S., and southern Canada 1950-2013, Nature Scientific Data, 5:150042, doi:10.1038/sdata.2015.42.<br/>\n",
    "<br/>\n",
    "The getDailyMET_livneh2015() function reads in the mapping file table, downloads, and unzips the data files for each of the longitude and latitude points. The folder containing the data is within the directory listed as homedir. \n"
   ]
  },
  {
   "cell_type": "code",
   "execution_count": null,
   "metadata": {
    "scrolled": true
   },
   "outputs": [],
   "source": [
    "Daily_MET_1950_2013 = ogh.getDailyMET_livneh2015(homedir, mappingfile)"
   ]
  },
  {
   "cell_type": "markdown",
   "metadata": {},
   "source": [
    "### Get VIC outputs from Livneh et al., 2013 and Livneh et al., 2015"
   ]
  },
  {
   "cell_type": "code",
   "execution_count": null,
   "metadata": {
    "collapsed": true,
    "scrolled": true
   },
   "outputs": [],
   "source": [
    "Daily_VIC_1915_2011 = ogh.getDailyVIC_livneh2013(homedir, mappingfile)"
   ]
  },
  {
   "cell_type": "code",
   "execution_count": null,
   "metadata": {
    "collapsed": true,
    "scrolled": true
   },
   "outputs": [],
   "source": [
    "Daily_VIC_1950_2013 = ogh.getDailyVIC_livneh2015(homedir, mappingfile)"
   ]
  },
  {
   "cell_type": "markdown",
   "metadata": {},
   "source": [
    "\n",
    "### Get the raw and bias corrected Daily Weather Research and Forecasting (WRF 1950-2010 Pacific Northwest) from Salathe et al., 2014\n",
    "<br/>\n",
    "Please cite 2014 data using: <br/>\n",
    "Salathé, EP, AF Hamlet, CF Mass, M Stumbaugh, S-Y Lee, R Steed: 2017. Estimates of 21st Century Flood Risk in the Pacific Northwest Based on Regional Scale Climate Model Simulations.  J. Hydrometeorology. DOI: 10.1175/JHM-D-13-0137.1\n",
    "\n",
    "This data is also available on HydroShare and can be downloaded using the following line of code (copy into code block):\n",
    "hs.getResourceFromHydroShare('0db969e4cfb54cb18b4e1a2014a26c82')\n"
   ]
  },
  {
   "cell_type": "code",
   "execution_count": null,
   "metadata": {
    "collapsed": true,
    "scrolled": true
   },
   "outputs": [],
   "source": [
    "Daily_WRFraw_1950_2010 = ogh.getDailyWRF_salathe2014(homedir, mappingfile)"
   ]
  },
  {
   "cell_type": "code",
   "execution_count": null,
   "metadata": {
    "collapsed": true,
    "scrolled": true
   },
   "outputs": [],
   "source": [
    "Daily_WRFbc_1950_2010 = ogh.getDailyWRF_bcsalathe2014(homedir, mappingfile)"
   ]
  },
  {
   "cell_type": "code",
   "execution_count": null,
   "metadata": {
    "collapsed": true,
    "scrolled": true
   },
   "outputs": [],
   "source": [
    "#ogh.renderPointsInShape(shapefile=shapefile, NAmer=NAmer, mappingfile=mappingfile, outfilepath='oghcat_Livneh_Salathe.png')\n",
    "map_df, nstations = ogh.mappingfileToDF(mappingfile, colvar='all')"
   ]
  },
  {
   "cell_type": "code",
   "execution_count": null,
   "metadata": {
    "collapsed": true
   },
   "outputs": [],
   "source": [
    "def read_in_all_files(map_df, dataset, metadata, file_start_date, file_end_date, file_time_step, file_colnames, subset_start_date, subset_end_date):\n",
    "    \"\"\"\n",
    "    Read in files based on dataset label\n",
    "    \n",
    "    map_df: (dataframe) the mappingfile clipped to the subset that will be read-in\n",
    "    dataset: (str) the name of the dataset catalogged into map_df\n",
    "    metadata (str) the dictionary that contains the metadata explanations; default is None\n",
    "    file_colnames: (list) the list of shorthand variables; default is None\n",
    "    file_start_date: (date) the start date of the files that will be read-in; default is None\n",
    "    file_end_date: (date) the end date for the files that will be read in; default is None\n",
    "    file_time_step: (str) the timedelta code that represents the difference between time points; default is 'D' (daily)    \n",
    "    subset_start_date: (date) the start date of a date range of interest\n",
    "    subset_end_date: (date) the end date of a date range of interest\n",
    "    \"\"\"\n",
    "    # extract metadata if the information are not provided\n",
    "    if pd.notnull(metadata):\n",
    "        \n",
    "        if pd.isnull(file_start_date):\n",
    "            file_start_date = metadata[dataset]['date_range']['start']\n",
    "        \n",
    "        if pd.isnull(file_end_date):\n",
    "            file_end_date = metadata[dataset]['date_range']['end']\n",
    "\n",
    "        if pd.isnull(file_time_step):\n",
    "            file_time_step = metadata[dataset]['date_range']['time_step']\n",
    "\n",
    "        file_colnames = metadata[dataset]['variable_list']\n",
    "        file_delimiter = metadata[dataset]['delimiter']\n",
    "   \n",
    "    #initialize dictionary and time sequence\n",
    "    df_dict=dict()\n",
    "    met_daily_dates=pd.date_range(file_start_date, file_end_date, freq=file_time_step) # daily\n",
    "        \n",
    "    # import data for all climate stations\n",
    "    for ind, row in map_df.iterrows():\n",
    "        tmp = pd.read_table(row[dataset], header=None, delimiter=file_delimiter, names=file_colnames)\n",
    "        tmp.set_index(met_daily_dates, inplace=True)\n",
    "        \n",
    "        # subset to the date range of interest (default is file date range)\n",
    "        tmp = tmp.ix[subset_start_date:subset_end_date]\n",
    "        \n",
    "        # set row indices\n",
    "        df_dict[tuple(row[['FID','LAT','LONG_']].tolist())] = tmp\n",
    "        \n",
    "    return df_dict"
   ]
  },
  {
   "cell_type": "code",
   "execution_count": null,
   "metadata": {
    "collapsed": true
   },
   "outputs": [],
   "source": [
    "def generateVarTables(file_dict, gridclimname, dataset, metadata):\n",
    "    \"\"\"\n",
    "    Slice the files by their common variable\n",
    "    \n",
    "    all_files: (dict) a dictionary of dataframes for each tabular datafile\n",
    "    dataset: (str) the name of the dataset\n",
    "    metadata (dict) the dictionary that contains the metadata explanations; default is None\n",
    "    \"\"\"\n",
    "    # combine the files into a pandas panel\n",
    "    panel = pd.Panel.from_dict(file_dict)\n",
    "\n",
    "    # initiate output dictionary\n",
    "    df_dict = dict()\n",
    "    \n",
    "    # slice the panel for each variable in list\n",
    "    for eachvar in metadata[dataset]['variable_list']:\n",
    "        df_dict['_'.join([eachvar, gridclimname])] = panel.xs(key=eachvar, axis=2)\n",
    "        \n",
    "    return df_dict"
   ]
  },
  {
   "cell_type": "code",
   "execution_count": null,
   "metadata": {
    "collapsed": true
   },
   "outputs": [],
   "source": [
    "import json\n",
    "with open('ogh_meta.json', 'r') as r:\n",
    "    metadict=json.load(r)\n",
    "    r.close()"
   ]
  },
  {
   "cell_type": "code",
   "execution_count": null,
   "metadata": {
    "collapsed": true
   },
   "outputs": [],
   "source": [
    "# create list of dataframe\n",
    "dataset='dailymet_livneh2013'\n",
    "\n",
    "all_files = read_in_all_files(map_df=map_df,\n",
    "                              dataset=dataset,\n",
    "                              metadata=metadict,\n",
    "                              file_start_date=None, \n",
    "                              file_end_date=None,\n",
    "                              file_time_step=None,\n",
    "                              file_colnames=None,\n",
    "                              subset_start_date=None,\n",
    "                              subset_end_date=None)\n",
    "\n",
    "obj = generateVarTables(file_dict=all_files, \n",
    "                        dataset=dataset, \n",
    "                        gridclimname=dataset,\n",
    "                        metadata=metadict)\n",
    "obj.keys()"
   ]
  },
  {
   "cell_type": "code",
   "execution_count": null,
   "metadata": {
    "collapsed": true
   },
   "outputs": [],
   "source": [
    "obj['TMIN_dailymet_livneh2013']"
   ]
  },
  {
   "cell_type": "code",
   "execution_count": null,
   "metadata": {
    "collapsed": true
   },
   "outputs": [],
   "source": [
    "def mappingfileToDF(mappingfile, colvar='all'):\n",
    "    # Read in the mappingfile as a data frame\n",
    "    map_df = pd.read_csv(mappingfile)\n",
    "    \n",
    "    # select rows (datafiles) based on the colvar(s) chosen, default is \n",
    "    map_df = compareonvar(map_df=map_df, colvar=colvar)\n",
    "    \n",
    "    # compile summaries\n",
    "    print(map_df.head())\n",
    "          \n",
    "    print('Number of gridded data files:', len(map_df))\n",
    "    print('Minimum elevation: ', np.min(map_df.ELEV), 'm')\n",
    "    print('Mean elevation: ', int(np.mean(map_df.ELEV)), 'm')\n",
    "    print('Maximum elevation: ', np.max(map_df.ELEV), 'm')\n",
    "    \n",
    "    return map_df, len(map_df)\n",
    "\n",
    "def compareonvar(map_df, colvar='all'):\n",
    "    # apply row-wise inclusion based on a subset of columns\n",
    "    if colvar is None:\n",
    "        return map_df\n",
    "    \n",
    "    if colvar is 'all':\n",
    "        # compare on all columns except the station info\n",
    "        return map_df.dropna()\n",
    "    else:\n",
    "        # compare on only the listed columns\n",
    "        return map_df.dropna(subset=colvar)"
   ]
  },
  {
   "cell_type": "code",
   "execution_count": null,
   "metadata": {
    "collapsed": true
   },
   "outputs": [],
   "source": [
    "vardaily = obj['TMIN_dailymet_livneh2013']\n",
    "\n",
    "vardaily.mean(axis=1).mean(axis=0)"
   ]
  },
  {
   "cell_type": "code",
   "execution_count": null,
   "metadata": {
    "collapsed": true
   },
   "outputs": [],
   "source": [
    "def aggregate_space_time_average(VarTable, df_dict, suffix,\n",
    "                                 elev_min_station, elev_mid_station, elev_max_station, \n",
    "                                 start_date, end_date):\n",
    "    \n",
    "    # subset dataframe to the date range of interest\n",
    "    Var_daily = VarTable.loc[start_date:end_date,:]\n",
    "    \n",
    "    # Mean monthly temperature at each station\n",
    "    df_dict['month_'+suffix] = Var_daily.groupby(Var_daily.index.month).mean() \n",
    "    \n",
    "    # Mean monthly temperature averaged for all stations in analysis\n",
    "    df_dict['meanmonth_'+suffix] = Var_daily.groupby(Var_daily.index.month).mean().mean(axis=1)\n",
    "                \n",
    "    # e.g., Mean monthly temperature for minimum and maximum elevation stations\n",
    "    df_dict['meanmonth_maxelev_'+suffix] = Var_daily.loc[:,elev_max_station].groupby(Var_daily.index.month).mean().mean(axis=1)\n",
    "    df_dict['meanmonth_midelev_'+suffix] = Var_daily.loc[:,elev_mid_station].groupby(Var_daily.index.month).mean().mean(axis=1)\n",
    "    df_dict['meanmonth_minelev_'+suffix] = Var_daily.loc[:,elev_min_station].groupby(Var_daily.index.month).mean().mean(axis=1)   \n",
    "         \n",
    "                     \n",
    "    # Mean annual temperature\n",
    "    df_dict['year_'+suffix] = Var_daily.groupby(Var_daily.index.year).mean()\n",
    "    \n",
    "    # mean annual temperature each year for all stations\n",
    "    df_dict['meanyear_'+suffix] = Var_daily.groupby(Var_daily.index.year).mean().mean(axis=1)\n",
    "    \n",
    "    # mean annual temperature for all years, for all stations\n",
    "    df_dict['meanallyear_'+suffix] = Var_daily.mean(axis=1).mean(axis=0)\n",
    "    \n",
    "    # anomaly per year compared to average\n",
    "    df_dict['anom_year_'+suffix] = df_dict['meanyear_'+suffix] - df_dict['meanallyear_'+suffix]    \n",
    "    return df_dict"
   ]
  },
  {
   "cell_type": "code",
   "execution_count": null,
   "metadata": {
    "collapsed": true
   },
   "outputs": [],
   "source": [
    "def gridclim_dict(gridclim_folder,\n",
    "                  mappingfile,\n",
    "                  loc_name=None,\n",
    "                  gridclimname=None, dataset=None, \n",
    "                  metadata=None,\n",
    "                  min_elev=None, max_elev=None,\n",
    "                  file_start_date=None, file_end_date=None, file_time_step=None,\n",
    "                  subset_start_date=None, subset_end_date=None,\n",
    "                  df_dict=None):\n",
    "    \"\"\"\n",
    "    # pipelined operation for assimilating data, processing it, and standardizing the plotting\n",
    "    \n",
    "    gridclim_folder,\n",
    "    mappingfile,\n",
    "    loc_name=None,\n",
    "    gridclimname=None, \n",
    "    dataset=None, \n",
    "    metadata=None,\n",
    "    min_elev=None,\n",
    "    max_elev=None,\n",
    "    file_start_date=None,\n",
    "    file_end_date=None,\n",
    "    file_time_step=None,\n",
    "    subset_start_date=None,\n",
    "    subset_end_date=None,\n",
    "    df_dict=None\n",
    "    \"\"\"\n",
    "    \n",
    "    \n",
    "    \n",
    "    # generate the climate locations and n_stations\n",
    "    locations_df, n_stations = mappingfileToDF(mappingfile, colvar='all')\n",
    "    \n",
    "    # generate the climate station info\n",
    "    if pd.isnull(min_elev):\n",
    "        min_elev = locations_df.ELEV.min()\n",
    "    \n",
    "    if pd.isnull(max_elev):\n",
    "        max_elev = locations_df.ELEV.max()\n",
    "    \n",
    "    # extract metadata if the information are not provided\n",
    "    if pd.notnull(metadata):\n",
    "        \n",
    "        if pd.isnull(file_start_date):\n",
    "            file_start_date = metadata[dataset]['date_range']['start']\n",
    "        \n",
    "        if pd.isnull(file_end_date):\n",
    "            file_end_date = metadata[dataset]['date_range']['end']\n",
    "\n",
    "        if pd.isnull(file_time_step):\n",
    "            file_time_step = metadata[dataset]['date_range']['time_step']\n",
    "\n",
    "        file_colnames = metadata[dataset]['variable_list']\n",
    "        file_delimiter = metadata[dataset]['delimiter']\n",
    "        \n",
    "    # take all defaults if subset references are null\n",
    "    if pd.isnull(subset_start_date):\n",
    "        subset_start_date = file_start_date\n",
    "    \n",
    "    if pd.isnull(subset_end_date):\n",
    "        subset_end_date = file_end_date\n",
    "        \n",
    "    # initiate output dictionary df_dict was null\n",
    "    if pd.isnull(df_dict):\n",
    "        df_dict = dict()\n",
    "        \n",
    "    if pd.isnull(gridclimname):\n",
    "        if pd.notnull(dataset):\n",
    "            gridclimname=dataset\n",
    "        else:\n",
    "            print('no suffix name provided. Provide a gridclimname or dataset label.')\n",
    "            return\n",
    "    \n",
    "    # assemble the stations\n",
    "    analysis_stations_info = locations_df[(locations_df.ELEV >= min_elev) & (locations_df.ELEV <= max_elev)].sort_values(by='ELEV', ascending=False)\n",
    "\n",
    "    # the number of stations to include into the top and bottom elevation ranges\n",
    "    x = np.ceil(len(analysis_stations_info.ELEV)*.33)\n",
    "\n",
    "    # Extract list of station numbers for indexing. Alternative, you can set the list of stations manually!\n",
    "    analysis_elev_max_station = analysis_stations_info.FID.head(int(x)).tolist()\n",
    "    analysis_elev_min_station = analysis_stations_info.FID.tail(int(x)).tolist()\n",
    "    analysis_elev_mid_station = [k for k in analysis_stations_info.FID if k not in analysis_elev_max_station + analysis_elev_min_station]\n",
    "\n",
    "    df_dict['analysis_elev_max'] = analysis_stations_info.ELEV.max() # maximum elevation of stations in analysis\n",
    "    df_dict['analysis_elev_max_cutoff'] = analysis_stations_info.ELEV.head(int(x)).min()\n",
    "    df_dict['analysis_elev_min_cutoff'] = analysis_stations_info.ELEV.tail(int(x)).max()\n",
    "    df_dict['analysis_elev_min'] = analysis_stations_info.ELEV.min() # minimum elevation of stations in analysis\n",
    "    \n",
    "    # create dictionary of dataframe\n",
    "    file_dict = read_in_all_files(map_df=locations_df,\n",
    "                                  dataset=dataset, \n",
    "                                  metadata=metadata, \n",
    "                                  file_start_date=file_start_date, file_end_date=file_end_date, \n",
    "                                  file_time_step=file_time_step, file_colnames=file_colnames, \n",
    "                                  subset_start_date=subset_start_date, subset_end_date=subset_end_date)\n",
    "    \n",
    "    # assemble the variable dataframes to the dictionary\n",
    "    df_dict = generateVarTables(file_dict=file_dict, gridclimname=gridclimname, dataset=dataset, metadata=metadata)\n",
    "    \n",
    "    # loop through the dictionary to compute each aggregate_space_time_average object\n",
    "    for eachvardf in df_dict.keys():\n",
    "        if eachvardf.endswith(gridclimname): # and not eachvardf.startswith('precip'):\n",
    "            df_dict = aggregate_space_time_average(VarTable=df_dict[eachvardf],\n",
    "                                                   df_dict=df_dict,\n",
    "                                                   suffix=eachvardf,\n",
    "                                                   elev_min_station=analysis_elev_min_station,\n",
    "                                                   elev_mid_station=analysis_elev_mid_station,\n",
    "                                                   elev_max_station=analysis_elev_max_station, \n",
    "                                                   start_date=subset_start_date, \n",
    "                                                   end_date=subset_end_date)\n",
    "            \n",
    "    # generate plots\n",
    "    #plotTavg(df_dict, loc_name,start_date=subset_start_date, end_date=subset_end_date)\n",
    "    #plotPavg(df_dict, loc_name,start_date=subset_start_date, end_date=subset_end_date)\n",
    "    return df_dict"
   ]
  },
  {
   "cell_type": "markdown",
   "metadata": {},
   "source": [
    "## 4.  Compare Hydrometeorology \n",
    "\n",
    "This section performs computations and generates plots of the Livneh 2013, Livneh 2016, and WRF 2014 temperature and precipitation data in order to compare them with each other and observations. The generated plots are automatically downloaded and saved as .png files in the \"plots\" folder of the user's home directory and inline in the notebook."
   ]
  },
  {
   "cell_type": "markdown",
   "metadata": {},
   "source": [
    "### INPUT: Location Name and watershed drainage area (m2)"
   ]
  },
  {
   "cell_type": "code",
   "execution_count": null,
   "metadata": {
    "collapsed": true,
    "scrolled": false
   },
   "outputs": [],
   "source": [
    "loc_name='Sauk Watershed'\n",
    "streamflow_watershed_drainage_area=1849242318 # square meters"
   ]
  },
  {
   "cell_type": "code",
   "execution_count": null,
   "metadata": {
    "collapsed": true
   },
   "outputs": [],
   "source": [
    "ogh.overlappingDates(tuple([metadict['dailymet_livneh2013']['date_range']['start'], metadict['dailymet_livneh2013']['date_range']['end']]),\n",
    "                     tuple([metadict['dailywrf_salathe2014']['date_range']['start'], metadict['dailywrf_salathe2014']['date_range']['end']]))\n"
   ]
  },
  {
   "cell_type": "markdown",
   "metadata": {},
   "source": [
    "### INPUT: gridded meteorology from Jupyter Hub folders\n",
    "Data frames for each set of data are stored in a dictionary. The inputs to gridclim_dict() include the folder location and name of the hydrometeorology data, the file start and end, the analysis start and end, and the elevation band to be included in the analsyis (max and min elevation). <br/>  \n",
    "\n",
    "#### Create a dictionary of climate variables for the long-term mean (ltm) using the default elevation option of calculating a high, mid, and low elevation average.  The dictionary here is initialized with the Livneh et al., 2013 dataset with a dictionary output 'ltm_3bands', which is used as an input to the second time we run gridclim_dict(), to add the Salathe et al., 2014 data to the same dictionary. "
   ]
  },
  {
   "cell_type": "code",
   "execution_count": null,
   "metadata": {
    "collapsed": true,
    "scrolled": false
   },
   "outputs": [],
   "source": [
    "ltm_3bands = gridclim_dict(gridclim_folder='livneh2013_MET',\n",
    "                           loc_name=loc_name,\n",
    "                           dataset='dailymet_livneh2013',\n",
    "                           mappingfile=mappingfile, \n",
    "                           metadata=metadict,\n",
    "                           file_start_date=None, \n",
    "                           file_end_date=None,\n",
    "                           subset_start_date=None,\n",
    "                           subset_end_date=None)"
   ]
  },
  {
   "cell_type": "markdown",
   "metadata": {},
   "source": [
    "## comparison to WRF data from Salathe et al., 2014"
   ]
  },
  {
   "cell_type": "code",
   "execution_count": null,
   "metadata": {
    "collapsed": true,
    "scrolled": true
   },
   "outputs": [],
   "source": [
    "ltm_3bands = ogh.gridclim_dict(gridclim_folder=Daily_WRFraw_1950_2010,\n",
    "                               gridclimname='wrf2014_met_daily',\n",
    "                               loc_name=loc_name,\n",
    "                               mappingfile=mappingfile,\n",
    "                               file_start_date=datetime(1950,1,1), \n",
    "                               file_end_date=datetime(2010,12,31),\n",
    "                               subset_start_date=datetime(1950,1,1),\n",
    "                               subset_end_date=datetime(2010,12,31),  \n",
    "                               df_dict=ltm_3bands)"
   ]
  },
  {
   "cell_type": "markdown",
   "metadata": {},
   "source": [
    "# 5. Download gridded hydrology"
   ]
  },
  {
   "cell_type": "markdown",
   "metadata": {},
   "source": [
    "### Get VIC Hydrology Model data (1950-2013) from Livneh et al. 2016\n",
    "\n",
    "The functions used in this section apply to hydrometeorology data is within the North America area with daily data 1950-2013. View the data extent from this HydroShare resource: Livneh, B. (2017). Gridded climatology locations (1/16th degree): North American extent, HydroShare,  http://www.hydroshare.org/resource/ef2d82bf960144b4bfb1bae6242bcc7f\n",
    "\n",
    "Please cite: <br/>\n",
    "Livneh B., T.J. Bohn, D.S. Pierce, F. Munoz-Ariola, B. Nijssen, R. Vose, D. Cayan, and L.D. Brekke, 2015: A spatially comprehensive, hydrometeorological data set for Mexico, the U.S., and southern Canada 1950-2013, Nature Scientific Data, 5:150042, doi:10.1038/sdata.2015.42.<br/>\n",
    "<br/>\n",
    "The getClimateData_DailyVIC_USA_livneh2013() function reads in the mapping file table, downloads, and unzips the data files for each of the longitude and latitude points. Values in Canada use a different folder structure and can be downloaded with the function getClimateData_DailyVIC_CAN_livneh2013() The folder containing the data is within the directory listed as homedir. \n"
   ]
  },
  {
   "cell_type": "code",
   "execution_count": null,
   "metadata": {
    "collapsed": true
   },
   "outputs": [],
   "source": [
    "Daily_VIC_1950_2013 = ogh.getClimateData_DailyVIC_livneh2015(homedir, mappingfile)"
   ]
  },
  {
   "cell_type": "code",
   "execution_count": null,
   "metadata": {
    "collapsed": true
   },
   "outputs": [],
   "source": [
    "sorted(ltm_3bands.keys())"
   ]
  },
  {
   "cell_type": "markdown",
   "metadata": {},
   "source": [
    "# 6. Compare gridded model to point observations\n",
    "\n",
    "### Read in  SNOTEL data - assess available data \n",
    "If you want to plot observed snotel point precipitation or temperature with the gridded climate data, set to 'Y' \n",
    "Give name of Snotel file and name to be used in figure legends. \n",
    "File format: Daily SNOTEL Data Report - Historic - By individual SNOTEL site, standard sensors (https://www.wcc.nrcs.usda.gov/snow/snotel-data.html)"
   ]
  },
  {
   "cell_type": "code",
   "execution_count": null,
   "metadata": {
    "collapsed": true,
    "scrolled": false
   },
   "outputs": [],
   "source": [
    "# Sauk\n",
    "SNOTEL_file = os.path.join(homedir,'ThunderBasinSNOTEL.txt')\n",
    "SNOTEL_station_name='Thunder Creek'\n",
    "SNOTEL_file_use_colsnames = ['Date','Air Temperature Maximum (degF)', 'Air Temperature Minimum (degF)','Air Temperature Average (degF)','Precipitation Increment (in)']\n",
    "SNOTEL_station_elev=int(4320/3.281) # meters\n",
    "\n",
    "SNOTEL_obs_daily = ogh.read_daily_snotel(file_name=SNOTEL_file, \n",
    "                                         usecols=SNOTEL_file_use_colsnames, \n",
    "                                         delimiter=',', \n",
    "                                         header=58)\n",
    "\n",
    "# generate the start and stop date\n",
    "SNOTEL_obs_start_date=SNOTEL_obs_daily.index[0]\n",
    "SNOTEL_obs_end_date=SNOTEL_obs_daily.index[-1]\n",
    "\n",
    "# peek\n",
    "print(SNOTEL_obs_daily.head(5))"
   ]
  },
  {
   "cell_type": "markdown",
   "metadata": {},
   "source": [
    "### Read in  COOP station data - assess available data\n",
    "https://www.ncdc.noaa.gov/"
   ]
  },
  {
   "cell_type": "code",
   "execution_count": null,
   "metadata": {
    "collapsed": true,
    "scrolled": false
   },
   "outputs": [],
   "source": [
    "COOP_file=os.path.join(homedir, 'USC00455678.csv') # Sauk\n",
    "COOP_station_name='Mt Vernon'\n",
    "COOP_file_use_colsnames = ['DATE','PRCP','TMAX', 'TMIN','TOBS']\n",
    "COOP_station_elev=int(4.3) # meters\n",
    "\n",
    "COOP_obs_daily = ogh.read_daily_coop(file_name=COOP_file,\n",
    "                                     usecols=COOP_file_use_colsnames,\n",
    "                                     delimiter=',',\n",
    "                                     header=0)\n",
    "\n",
    "# generate the start and stop date\n",
    "COOP_obs_start_date=COOP_obs_daily.index[0]\n",
    "COOP_obs_end_date=COOP_obs_daily.index[-1]\n",
    "\n",
    "# peek\n",
    "print(COOP_obs_daily.head(5))"
   ]
  },
  {
   "cell_type": "markdown",
   "metadata": {},
   "source": [
    "## Set up VIC dictionary (as an example)  to compare to available data"
   ]
  },
  {
   "cell_type": "code",
   "execution_count": null,
   "metadata": {
    "collapsed": true
   },
   "outputs": [],
   "source": [
    "ltm_3bands_vic = ogh.gridhydro_dict(gridclim_folder=Daily_VIC_1950_2013,\n",
    "                               gridclimname='liv2013_vic_daily',\n",
    "                               loc_name=loc_name,\n",
    "                               mappingfile=mappingfile,\n",
    "                               file_start_date=datetime(1915,1,1), \n",
    "                               file_end_date=datetime(2011,12,31),\n",
    "                               subset_start_date=datetime(1950,1,1),  #matched COOP and Snotel\n",
    "                               subset_end_date=datetime(2010,12,31)\n",
    "                               model='vic2013')"
   ]
  },
  {
   "cell_type": "markdown",
   "metadata": {},
   "source": [
    "## 10. Save the results back into HydroShare\n",
    "<a name=\"creation\"></a>\n",
    "\n",
    "Using the `hs_utils` library, the results of the Geoprocessing steps above can be saved back into HydroShare.  First, define all of the required metadata for resource creation, i.e. *title*, *abstract*, *keywords*, *content files*.  In addition, we must define the type of resource that will be created, in this case *genericresource*.  \n",
    "\n",
    "***Note:*** Make sure you save the notebook at this point, so that all notebook changes will be saved into the new HydroShare resource."
   ]
  },
  {
   "cell_type": "code",
   "execution_count": null,
   "metadata": {
    "collapsed": true
   },
   "outputs": [],
   "source": [
    "#execute this cell to list the content of the directory\n",
    "!ls"
   ]
  },
  {
   "cell_type": "markdown",
   "metadata": {},
   "source": [
    "Create list of files to save to HydroShare. Verify location and names."
   ]
  },
  {
   "cell_type": "code",
   "execution_count": null,
   "metadata": {
    "collapsed": true
   },
   "outputs": [],
   "source": [
    "ThisNotebook='Observatory_Sauk_TreatGeoSelf.ipynb' #check name for consistency\n",
    "climate2013_tar = 'livneh2013.tar.gz'\n",
    "climate2015_tar = 'livneh2015.tar.gz'\n",
    "wrf_tar = 'Salathe2014.tar.gz'\n",
    "!tar -zcf {climate2013_tar} livneh2013\n",
    "!tar -zcf {climate2015_tar} livneh2015\n",
    "!tar -zcf {wrf_tar} Salathe2014\n",
    "\n",
    "files=[ThisNotebook,\n",
    "       'monkeysonatree.csv',\n",
    "       'avg_monthly_precip Sauk Watershed.png',\n",
    "       'avg_monthly_temp Sauk Watershed.png',\n",
    "       'observatory_gridded_hydromet.py',\n",
    "        climate2013_tar,\n",
    "        climate2015_tar,\n",
    "        wrf_tar]"
   ]
  },
  {
   "cell_type": "code",
   "execution_count": null,
   "metadata": {
    "collapsed": true
   },
   "outputs": [],
   "source": [
    "# for each file downloaded onto the server folder, move to a new HydroShare Generic Resource\n",
    "title = 'Results from testing out the TreatGeoSelf utility'\n",
    "abstract = 'This the output from the TreatGeoSelf utility integration notebook.\n",
    "keywords = ['Sauk', 'climate', 'Landlab','hydromet','watershed'] \n",
    "rtype = 'genericresource'  \n",
    "\n",
    "# create the new resource\n",
    "resource_id = hs.createHydroShareResource(abstract, \n",
    "                                          title,\n",
    "                                          keywords=keywords, \n",
    "                                          resource_type=rtype, \n",
    "                                          content_files=files, \n",
    "                                          public=False)"
   ]
  }
 ],
 "metadata": {
  "anaconda-cloud": {},
  "kernelspec": {
   "display_name": "Python 2",
   "language": "python",
   "name": "python2"
  },
  "language_info": {
   "codemirror_mode": {
    "name": "ipython",
    "version": 2
   },
   "file_extension": ".py",
   "mimetype": "text/x-python",
   "name": "python",
   "nbconvert_exporter": "python",
   "pygments_lexer": "ipython2",
   "version": "2.7.13"
  }
 },
 "nbformat": 4,
 "nbformat_minor": 1
}
