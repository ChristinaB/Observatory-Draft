{
 "cells": [
  {
   "cell_type": "markdown",
   "metadata": {},
   "source": [
    "\n",
    "# A Notebook to explore gridded climate time series data and DHSVM modeling of the Sauk-Suiattle Watershed  \n",
    "<img src= \"http://www.sauk-suiattle.com/images/Elliott.jpg\"\n",
    "style=\"float:left;width:200px;padding:20px\">   \n",
    "This data is compiled to digitally observe the Sauk-Suiattle Watershed, powered by HydroShare. <br />\n",
    "<br />\n",
    "*Use this Jupyter Notebook to:* <br /> \n",
    "Download and generate lists of gridded climate points for a watershed<br />\n",
    "Download Livneh daily 1/16 degree gridded climate data, <br /> \n",
    "Download WRF daily 1/16 degree gridded climate data, <br /> \n",
    "Visualize daily, monthly, and annual temperature and precipitation data. <br /> \n",
    "Calculate Long-term Mean Monthly Bias Corrections for WRF using Livneh Low Elevation data<br /> \n",
    "Bias correct each Livneh grid cell using bias corrected WRF (use to correct Livneh 2013 and MACA data). <br />\n",
    "Visualize daily, monthly, and annual temperature and precipitation data with corrected results. <br /> \n",
    "Update VIC model soil input (optional). <br /> \n",
    "Save results back to HydroShare. <br /> \n",
    " <br /> <br /> <img src=\"https://www.washington.edu/brand/files/2014/09/W-Logo_Purple_Hex.png\" style=\"float:right;width:120px;padding:20px\">  \n",
    "#### A Watershed Dynamics Model by the Watershed Dynamics Research Group in the Civil and Environmental Engineering Department at the University of Washington "
   ]
  },
  {
   "cell_type": "markdown",
   "metadata": {},
   "source": [
    "This is the Livneh bias correction to WRF, that is bias corrected to the Livneh low elevation long term mean, which has been spatially averaged (with a few experimental GIS selections).  "
   ]
  },
  {
   "cell_type": "markdown",
   "metadata": {},
   "source": [
    "## 1.  HydroShare Setup and Preparation\n",
    "\n",
    "To run this notebook, we must import several libaries. These are listed in order of 1) Python standard libraries, 2) hs_utils library provides functions for interacting with HydroShare, including resource querying, dowloading and creation, and 3) the observatory_gridded_hydromet library that is downloaded with this notebook. "
   ]
  },
  {
   "cell_type": "code",
   "execution_count": 1,
   "metadata": {},
   "outputs": [],
   "source": [
    "#!python3 -m pip install descartes"
   ]
  },
  {
   "cell_type": "code",
   "execution_count": 2,
   "metadata": {
    "scrolled": false
   },
   "outputs": [],
   "source": [
    "#Python libraries available on CUAHSI JupyterHub \n",
    "import os\n",
    "import numpy as np\n",
    "import pandas as pd\n",
    "import json\n",
    "from datetime import datetime, timedelta\n",
    "\n",
    "%matplotlib inline\n",
    "import matplotlib.pyplot as plt\n",
    "import warnings \n",
    "warnings.filterwarnings('ignore')\n",
    "\n",
    "#HydroShare Utilities\n",
    "from utilities import hydroshare\n",
    "\n",
    "#UW Watershed Dynamics Lab Utilities\n",
    "import ogh"
   ]
  },
  {
   "cell_type": "code",
   "execution_count": 3,
   "metadata": {
    "collapsed": true
   },
   "outputs": [],
   "source": [
    "start_time=datetime.now()"
   ]
  },
  {
   "cell_type": "markdown",
   "metadata": {},
   "source": [
    "Establish a secure connection with HydroShare by instantiating the hydroshare class that is defined within hs_utils. In addition to connecting with HydroShare, this command also sets and prints environment variables for several parameters that will be useful for saving work back to HydroShare. "
   ]
  },
  {
   "cell_type": "code",
   "execution_count": 4,
   "metadata": {
    "scrolled": false
   },
   "outputs": [
    {
     "name": "stdout",
     "output_type": "stream",
     "text": [
      "Adding the following system variables:\n",
      "   HS_USR_NAME = cbev\n",
      "   HS_RES_ID = 0236ae196d204f1cba421787f38dec71\n",
      "   HS_RES_TYPE = genericresource\n",
      "   JUPYTER_HUB_IP = jupyter.cuahsi.org\n",
      "\n",
      "These can be accessed using the following command: \n",
      "   os.environ[key]\n",
      "\n",
      "   (e.g.)\n",
      "   os.environ[\"HS_USR_NAME\"]  => cbev\n",
      "Successfully established a connection with HydroShare\n",
      "Data will be loaded from and save to:/home/jovyan/work/notebooks/data/0236ae196d204f1cba421787f38dec71/0236ae196d204f1cba421787f38dec71/data/contents\n"
     ]
    }
   ],
   "source": [
    "hs=hydroshare.hydroshare()\n",
    "homedir = ogh.mapContentFolder(str(os.environ[\"HS_RES_ID\"]))\n",
    "print('Data will be loaded from and save to:'+homedir)"
   ]
  },
  {
   "cell_type": "markdown",
   "metadata": {},
   "source": [
    "If you are curious about where the data is being downloaded, click on the Jupyter Notebook dashboard icon to return to the File System view.  The homedir directory location printed above is where you can find the data and contents you will download to a HydroShare JupyterHub server.  At the end of this work session, you can migrate this data to the HydroShare iRods server as a Generic Resource. "
   ]
  },
  {
   "cell_type": "markdown",
   "metadata": {},
   "source": [
    "## 2. Download and generate lists of gridded climate points for a watershed\n",
    "Retrieve a list of grid points and configuration file from a HydroShare resource\n",
    "This example uses a ascii text that is stored in HydroShare at the following url: https://www.hydroshare.org/resource/d90289409f904017831d308642c1eb30/ . The data for our processing routines can be retrieved using the getResourceFromHydroShare function by passing in the global identifier from the url above.  In the next cell, we download this resource from HydroShare, and identify that the table in this resource is the 'mappingfile' variable identifying the Lat/Long points to be used for downloading hydrometeorology data.  The file must include columns with station numbers (this can be aribitrary), latitude, longitude, and elevation. The header of these columns must be FID, LAT, LONG_, and ELEV or RASTERVALU, respectively. The station numbers will be used for the remainder of the code to uniquely reference data from each climate station, as well as to identify minimum, maximum, and average elevation of all of the climate stations."
   ]
  },
  {
   "cell_type": "markdown",
   "metadata": {},
   "source": [
    "### User provides their HydroShare resource ID from their own polgyon shapefile uploaded to HydroShare"
   ]
  },
  {
   "cell_type": "code",
   "execution_count": 5,
   "metadata": {},
   "outputs": [
    {
     "name": "stdout",
     "output_type": "stream",
     "text": [
      "This resource already exists in your userspace.\n",
      "Would you like to overwrite this data [Y/n]? y\n",
      "Download Finished                               \n",
      "Successfully downloaded resource c532e0578e974201a0bc40a37ef2d284\n"
     ]
    },
    {
     "data": {
      "text/html": [
       "<b>Found the following file(s) associated with this HydroShare resource.</b>"
      ],
      "text/plain": [
       "<IPython.core.display.HTML object>"
      ]
     },
     "metadata": {},
     "output_type": "display_data"
    },
    {
     "data": {
      "text/html": [
       "wbdhuc12_17110006_WGS84.cpg<br>wbdhuc12_17110006_WGS84.sbn<br>wbdhuc12_17110006_WGS84.shp<br>wbdhuc12_17110006_WGS84.sbx<br>wbdhuc12_17110006_WGS84.shx<br>wbdhuc12_17110006_WGS84.prj<br>wbdhuc12_17110006_WGS84.dbf"
      ],
      "text/plain": [
       "<IPython.core.display.HTML object>"
      ]
     },
     "metadata": {},
     "output_type": "display_data"
    },
    {
     "data": {
      "text/html": [
       "These files are stored in a dictionary called <b>hs.content</b> for your convenience.  To access a file, simply issue the following command where MY_FILE is one of the files listed above: <pre>hs.content[\"MY_FILE\"] </pre> "
      ],
      "text/plain": [
       "<IPython.core.display.HTML object>"
      ]
     },
     "metadata": {},
     "output_type": "display_data"
    }
   ],
   "source": [
    "hs.getResourceFromHydroShare('c532e0578e974201a0bc40a37ef2d284')\n",
    "shapefile = hs.content['wbdhuc12_17110006_WGS84.shp']"
   ]
  },
  {
   "cell_type": "markdown",
   "metadata": {},
   "source": [
    "### Use TreatGeoSelf to generate a list of lat/long points in your area of interest"
   ]
  },
  {
   "cell_type": "code",
   "execution_count": 6,
   "metadata": {},
   "outputs": [
    {
     "name": "stdout",
     "output_type": "stream",
     "text": [
      "This resource already exists in your userspace.\n",
      "Would you like to overwrite this data [Y/n]? y\n",
      "Download Finished                               \n",
      "Successfully downloaded resource ef2d82bf960144b4bfb1bae6242bcc7f\n"
     ]
    },
    {
     "data": {
      "text/html": [
       "<b>Found the following file(s) associated with this HydroShare resource.</b>"
      ],
      "text/plain": [
       "<IPython.core.display.HTML object>"
      ]
     },
     "metadata": {},
     "output_type": "display_data"
    },
    {
     "data": {
      "text/html": [
       "NAmer_dem_list.cpg<br>NAmer_dem_list.prj<br>NAmer_dem_list.shp<br>NAmer_dem_list.dbf<br>NAmer_dem_list.shx<br>NAmer_dem_list.sbn<br>NAmer_dem_list.sbx"
      ],
      "text/plain": [
       "<IPython.core.display.HTML object>"
      ]
     },
     "metadata": {},
     "output_type": "display_data"
    },
    {
     "data": {
      "text/html": [
       "These files are stored in a dictionary called <b>hs.content</b> for your convenience.  To access a file, simply issue the following command where MY_FILE is one of the files listed above: <pre>hs.content[\"MY_FILE\"] </pre> "
      ],
      "text/plain": [
       "<IPython.core.display.HTML object>"
      ]
     },
     "metadata": {},
     "output_type": "display_data"
    },
    {
     "name": "stdout",
     "output_type": "stream",
     "text": [
      "Number of gridded points/files: 98\n",
      "(98, 4)\n",
      "    FID       LAT      LONG_    ELEV\n",
      "93   93  47.96875 -121.53125   987.0\n",
      "94   94  47.90625 -121.21875  1310.0\n",
      "95   95  47.90625 -121.28125  1061.0\n",
      "96   96  47.90625 -121.34375   934.0\n",
      "97   97  47.90625 -121.40625   866.0\n",
      "/home/jovyan/work/notebooks/Observatory/monkeysonatree.csv\n"
     ]
    }
   ],
   "source": [
    "#This is the exising point shapefile of available 1/16 degree grid centroid locations \n",
    "# shared on HydroShare as a public resource\n",
    "hs.getResourceFromHydroShare('ef2d82bf960144b4bfb1bae6242bcc7f')\n",
    "NAmer = hs.content['NAmer_dem_list.shp']\n",
    "\n",
    "# TreatGeoSelf() to a easily generated list of lat/long points in your area of interest\n",
    "mappingfile = ogh.treatgeoself(shapefile=shapefile, NAmer=NAmer, folder_path=os.getcwd(), outfilename='monkeysonatree.csv', buffer_distance=0.06)\n",
    "print(mappingfile)"
   ]
  },
  {
   "cell_type": "markdown",
   "metadata": {},
   "source": [
    "### INPUT: Location Name and watershed drainage area (m2)"
   ]
  },
  {
   "cell_type": "code",
   "execution_count": 7,
   "metadata": {
    "collapsed": true,
    "scrolled": false
   },
   "outputs": [],
   "source": [
    "loc_name='Sauk Watershed'\n",
    "streamflow_watershed_drainage_area=1849242318 # square meters"
   ]
  },
  {
   "cell_type": "markdown",
   "metadata": {},
   "source": [
    "# read in the metadata file"
   ]
  },
  {
   "cell_type": "code",
   "execution_count": 8,
   "metadata": {},
   "outputs": [
    {
     "data": {
      "text/plain": [
       "['dailymet_bclivneh2013',\n",
       " 'dailymet_livneh2013',\n",
       " 'dailymet_livneh2015',\n",
       " 'dailyvic_livneh2013',\n",
       " 'dailyvic_livneh2015',\n",
       " 'dailywrf_bcsalathe2014',\n",
       " 'dailywrf_salathe2014']"
      ]
     },
     "execution_count": 8,
     "metadata": {},
     "output_type": "execute_result"
    }
   ],
   "source": [
    "with open('ogh_meta.json','r') as r:\n",
    "    meta_file = json.load(r)\n",
    "    r.close()\n",
    "\n",
    "sorted(meta_file.keys())"
   ]
  },
  {
   "cell_type": "markdown",
   "metadata": {},
   "source": [
    " ## 3. Download climate data "
   ]
  },
  {
   "cell_type": "markdown",
   "metadata": {},
   "source": [
    "### Get Daily Meteorologic Data (1915-2011) from Livneh et al. 2013 \n",
    "\n",
    "The functions used in this section apply to hydrometeorology data within the Continental United States with daily data 1915-2011. <br/>\n",
    "View data extent at  Livneh, B. (2017). Gridded climatology locations (1/16th degree): Continental United States extent, HydroShare, http://www.hydroshare.org/resource/14f0a6619c6b45cc90d1f8cabc4129af\n",
    "\n",
    "Please cite: <br/>\n",
    "Livneh B., E.A. Rosenberg, C. Lin, B. Nijssen, V. Mishra, K.M. Andreadis, E.P. Maurer, and D.P. Lettenmaier, 2013: A Long-Term Hydrologically Based Dataset of Land Surface Fluxes and States for the Conterminous United States: Update and Extensions, Journal of Climate, 26, 9384–9392.<br/>\n",
    "<br/>\n",
    "The getClimateData_DailyMET_livneh2013() function reads in the mapping file table, downloads, and unzips the data files for each of the longitude and latitude points. The folder containing the data is within the directory listed as homedir. "
   ]
  },
  {
   "cell_type": "code",
   "execution_count": 9,
   "metadata": {},
   "outputs": [
    {
     "name": "stdout",
     "output_type": "stream",
     "text": [
      "Help on function getDailyMET_livneh2013 in module ogh:\n",
      "\n",
      "getDailyMET_livneh2013(homedir, mappingfile, subdir='livneh2013/Daily_MET_1915_2011/raw', catalog_label='dailymet_livneh2013')\n",
      "    Get the Livneh el al., 2013 Daily Meteorology files of interest using the reference mapping file\n",
      "    \n",
      "    homedir: (dir) the home directory to be used for establishing subdirectories\n",
      "    mappingfile: (dir) the file path to the mappingfile, which contains the LAT, LONG_, and ELEV coordinates of interest\n",
      "    subdir: (dir) the subdirectory to be established under homedir\n",
      "    catalog_label: (str) the preferred name for the series of catalogged filepaths\n",
      "\n"
     ]
    }
   ],
   "source": [
    "help(ogh.getDailyMET_livneh2013)"
   ]
  },
  {
   "cell_type": "code",
   "execution_count": 10,
   "metadata": {
    "scrolled": true
   },
   "outputs": [
    {
     "name": "stdout",
     "output_type": "stream",
     "text": [
      "Meteorology_Livneh_CONUSExt_v.1.2_2013_48.46875_-121.53125 unzipped\n",
      "Meteorology_Livneh_CONUSExt_v.1.2_2013_48.34375_-121.53125 unzipped\n",
      "Meteorology_Livneh_CONUSExt_v.1.2_2013_48.40625_-121.40625 unzipped\n",
      "Meteorology_Livneh_CONUSExt_v.1.2_2013_48.28125_-121.46875 unzipped\n",
      "Meteorology_Livneh_CONUSExt_v.1.2_2013_48.28125_-121.09375 unzipped\n",
      "Meteorology_Livneh_CONUSExt_v.1.2_2013_48.28125_-121.59375 unzipped\n",
      "Meteorology_Livneh_CONUSExt_v.1.2_2013_48.34375_-121.03125 unzipped\n",
      "Meteorology_Livneh_CONUSExt_v.1.2_2013_48.53125_-121.59375 unzipped\n",
      "Meteorology_Livneh_CONUSExt_v.1.2_2013_48.40625_-121.28125 unzipped\n",
      "Meteorology_Livneh_CONUSExt_v.1.2_2013_48.21875_-120.90625 unzipped\n",
      "Meteorology_Livneh_CONUSExt_v.1.2_2013_48.40625_-121.53125 unzipped\n",
      "Meteorology_Livneh_CONUSExt_v.1.2_2013_48.34375_-121.40625 unzipped\n",
      "Meteorology_Livneh_CONUSExt_v.1.2_2013_48.46875_-121.65625 unzipped\n",
      "Meteorology_Livneh_CONUSExt_v.1.2_2013_48.34375_-121.15625 unzipped\n",
      "Meteorology_Livneh_CONUSExt_v.1.2_2013_48.34375_-121.28125 unzipped\n",
      "Meteorology_Livneh_CONUSExt_v.1.2_2013_48.40625_-121.65625 unzipped\n",
      "Meteorology_Livneh_CONUSExt_v.1.2_2013_48.28125_-121.21875 unzipped\n",
      "Meteorology_Livneh_CONUSExt_v.1.2_2013_48.28125_-120.96875 unzipped\n",
      "Meteorology_Livneh_CONUSExt_v.1.2_2013_48.28125_-121.34375 unzipped\n",
      "Meteorology_Livneh_CONUSExt_v.1.2_2013_48.46875_-121.59375 unzipped\n",
      "Meteorology_Livneh_CONUSExt_v.1.2_2013_48.28125_-121.53125 unzipped\n",
      "Meteorology_Livneh_CONUSExt_v.1.2_2013_48.40625_-121.46875 unzipped\n",
      "Meteorology_Livneh_CONUSExt_v.1.2_2013_48.46875_-121.46875 unzipped\n",
      "Meteorology_Livneh_CONUSExt_v.1.2_2013_48.21875_-120.96875 unzipped\n",
      "Meteorology_Livneh_CONUSExt_v.1.2_2013_48.34375_-121.59375 unzipped\n",
      "Meteorology_Livneh_CONUSExt_v.1.2_2013_48.34375_-121.46875 unzipped\n",
      "Meteorology_Livneh_CONUSExt_v.1.2_2013_48.28125_-121.15625 unzipped\n",
      "Meteorology_Livneh_CONUSExt_v.1.2_2013_48.34375_-121.34375 unzipped\n",
      "Meteorology_Livneh_CONUSExt_v.1.2_2013_48.28125_-121.65625 unzipped\n",
      "Meteorology_Livneh_CONUSExt_v.1.2_2013_48.34375_-121.09375 unzipped\n",
      "Meteorology_Livneh_CONUSExt_v.1.2_2013_48.40625_-121.34375 unzipped\n",
      "Meteorology_Livneh_CONUSExt_v.1.2_2013_48.34375_-120.96875 unzipped\n",
      "Meteorology_Livneh_CONUSExt_v.1.2_2013_48.40625_-121.59375 unzipped\n",
      "Meteorology_Livneh_CONUSExt_v.1.2_2013_48.40625_-121.09375 unzipped\n",
      "Meteorology_Livneh_CONUSExt_v.1.2_2013_48.28125_-121.28125 unzipped\n",
      "Meteorology_Livneh_CONUSExt_v.1.2_2013_48.28125_-121.03125 unzipped\n",
      "Meteorology_Livneh_CONUSExt_v.1.2_2013_48.34375_-121.21875 unzipped\n",
      "Meteorology_Livneh_CONUSExt_v.1.2_2013_48.28125_-121.40625 unzipped\n",
      "Meteorology_Livneh_CONUSExt_v.1.2_2013_48.21875_-121.03125 unzipped\n",
      "Meteorology_Livneh_CONUSExt_v.1.2_2013_48.21875_-121.53125 unzipped\n",
      "Meteorology_Livneh_CONUSExt_v.1.2_2013_48.21875_-121.15625 unzipped\n",
      "Meteorology_Livneh_CONUSExt_v.1.2_2013_48.21875_-121.28125 unzipped\n",
      "Meteorology_Livneh_CONUSExt_v.1.2_2013_48.15625_-121.34375 unzipped\n",
      "Meteorology_Livneh_CONUSExt_v.1.2_2013_48.21875_-121.40625 unzipped\n",
      "Meteorology_Livneh_CONUSExt_v.1.2_2013_48.21875_-121.65625 unzipped\n",
      "Meteorology_Livneh_CONUSExt_v.1.2_2013_48.15625_-121.46875 unzipped\n",
      "Meteorology_Livneh_CONUSExt_v.1.2_2013_48.15625_-121.09375 unzipped\n",
      "Meteorology_Livneh_CONUSExt_v.1.2_2013_48.15625_-120.96875 unzipped\n",
      "Meteorology_Livneh_CONUSExt_v.1.2_2013_48.15625_-121.21875 unzipped\n",
      "Meteorology_Livneh_CONUSExt_v.1.2_2013_48.15625_-121.59375 unzipped\n",
      "Meteorology_Livneh_CONUSExt_v.1.2_2013_48.09375_-120.96875 unzipped\n",
      "Meteorology_Livneh_CONUSExt_v.1.2_2013_48.09375_-121.34375 unzipped\n",
      "Meteorology_Livneh_CONUSExt_v.1.2_2013_48.15625_-121.71875 unzipped\n",
      "Meteorology_Livneh_CONUSExt_v.1.2_2013_48.09375_-121.21875 unzipped\n",
      "Meteorology_Livneh_CONUSExt_v.1.2_2013_48.09375_-121.09375 unzipped\n",
      "Meteorology_Livneh_CONUSExt_v.1.2_2013_48.09375_-121.46875 unzipped\n",
      "Meteorology_Livneh_CONUSExt_v.1.2_2013_48.09375_-121.59375 unzipped\n",
      "Meteorology_Livneh_CONUSExt_v.1.2_2013_48.21875_-121.59375 unzipped\n",
      "Meteorology_Livneh_CONUSExt_v.1.2_2013_48.15625_-121.40625 unzipped\n",
      "Meteorology_Livneh_CONUSExt_v.1.2_2013_48.21875_-121.09375 unzipped\n",
      "Meteorology_Livneh_CONUSExt_v.1.2_2013_48.15625_-120.90625 unzipped\n",
      "Meteorology_Livneh_CONUSExt_v.1.2_2013_48.21875_-121.34375 unzipped\n",
      "Meteorology_Livneh_CONUSExt_v.1.2_2013_48.15625_-121.28125 unzipped\n",
      "Meteorology_Livneh_CONUSExt_v.1.2_2013_48.15625_-121.03125 unzipped\n",
      "Meteorology_Livneh_CONUSExt_v.1.2_2013_48.15625_-121.65625 unzipped\n",
      "Meteorology_Livneh_CONUSExt_v.1.2_2013_48.09375_-121.03125 unzipped\n",
      "Meteorology_Livneh_CONUSExt_v.1.2_2013_48.21875_-121.46875 unzipped\n",
      "Meteorology_Livneh_CONUSExt_v.1.2_2013_48.15625_-121.53125 unzipped\n",
      "Meteorology_Livneh_CONUSExt_v.1.2_2013_48.15625_-121.15625 unzipped\n",
      "Meteorology_Livneh_CONUSExt_v.1.2_2013_48.09375_-121.40625 unzipped\n",
      "Meteorology_Livneh_CONUSExt_v.1.2_2013_48.09375_-121.28125 unzipped\n",
      "Meteorology_Livneh_CONUSExt_v.1.2_2013_48.09375_-120.90625 unzipped\n",
      "Meteorology_Livneh_CONUSExt_v.1.2_2013_48.09375_-121.15625 unzipped\n",
      "Meteorology_Livneh_CONUSExt_v.1.2_2013_48.21875_-121.21875 unzipped\n",
      "Meteorology_Livneh_CONUSExt_v.1.2_2013_48.09375_-121.53125 unzipped\n",
      "Meteorology_Livneh_CONUSExt_v.1.2_2013_48.09375_-121.65625 unzipped\n",
      "Meteorology_Livneh_CONUSExt_v.1.2_2013_48.03125_-121.03125 unzipped\n",
      "Meteorology_Livneh_CONUSExt_v.1.2_2013_48.03125_-121.15625 unzipped\n",
      "Meteorology_Livneh_CONUSExt_v.1.2_2013_47.96875_-121.46875 unzipped\n",
      "Meteorology_Livneh_CONUSExt_v.1.2_2013_47.90625_-121.21875 unzipped\n",
      "Meteorology_Livneh_CONUSExt_v.1.2_2013_48.03125_-121.28125 unzipped\n",
      "Meteorology_Livneh_CONUSExt_v.1.2_2013_48.03125_-121.40625 unzipped\n",
      "Meteorology_Livneh_CONUSExt_v.1.2_2013_47.96875_-121.21875 unzipped\n",
      "Meteorology_Livneh_CONUSExt_v.1.2_2013_47.96875_-121.09375 unzipped\n",
      "Meteorology_Livneh_CONUSExt_v.1.2_2013_47.96875_-121.34375 unzipped\n",
      "Meteorology_Livneh_CONUSExt_v.1.2_2013_47.90625_-121.34375 unzipped\n",
      "Meteorology_Livneh_CONUSExt_v.1.2_2013_48.40625_-121.15625 unzipped\n",
      "Meteorology_Livneh_CONUSExt_v.1.2_2013_48.03125_-121.09375 unzipped\n",
      "Meteorology_Livneh_CONUSExt_v.1.2_2013_48.03125_-121.21875 unzipped\n",
      "Meteorology_Livneh_CONUSExt_v.1.2_2013_47.96875_-121.40625 unzipped\n",
      "Meteorology_Livneh_CONUSExt_v.1.2_2013_47.96875_-121.53125 unzipped\n",
      "Meteorology_Livneh_CONUSExt_v.1.2_2013_47.90625_-121.28125 unzipped\n",
      "Meteorology_Livneh_CONUSExt_v.1.2_2013_48.03125_-121.34375 unzipped\n",
      "Meteorology_Livneh_CONUSExt_v.1.2_2013_48.03125_-121.46875 unzipped\n",
      "Meteorology_Livneh_CONUSExt_v.1.2_2013_47.96875_-121.28125 unzipped\n",
      "Meteorology_Livneh_CONUSExt_v.1.2_2013_47.96875_-121.15625 unzipped\n",
      "Meteorology_Livneh_CONUSExt_v.1.2_2013_47.90625_-121.40625 unzipped\n",
      "Meteorology_Livneh_CONUSExt_v.1.2_2013_48.40625_-121.21875 unzipped\n"
     ]
    }
   ],
   "source": [
    "Daily_MET_1915_2011 = ogh.getDailyMET_livneh2013(homedir, mappingfile)"
   ]
  },
  {
   "cell_type": "markdown",
   "metadata": {},
   "source": [
    "\n",
    "### Get Daily Weather Research and Forecasting (WRF 1950-2010 Pacific Northwest) from Salathe et al., 2014\n",
    "<br/>\n",
    "Please cite 2014 data using: <br/>\n",
    "Salathé, EP, AF Hamlet, CF Mass, M Stumbaugh, S-Y Lee, R Steed: 2017. Estimates of 21st Century Flood Risk in the Pacific Northwest Based on Regional Scale Climate Model Simulations.  J. Hydrometeorology. DOI: 10.1175/JHM-D-13-0137.1\n",
    "\n",
    "This data is also available on HydroShare and can be downloaded using the following line of code (copy into code block):\n",
    "hs.getResourceFromHydroShare('0db969e4cfb54cb18b4e1a2014a26c82')\n"
   ]
  },
  {
   "cell_type": "code",
   "execution_count": 11,
   "metadata": {},
   "outputs": [
    {
     "name": "stdout",
     "output_type": "stream",
     "text": [
      "Help on function getDailyWRF_salathe2014 in module ogh:\n",
      "\n",
      "getDailyWRF_salathe2014(homedir, mappingfile, subdir='salathe2014/WWA_1950_2010/raw', catalog_label='dailywrf_salathe2014')\n",
      "    Get the Salathe el al., 2014 raw Daily WRF files of interest using the reference mapping file\n",
      "    \n",
      "    homedir: (dir) the home directory to be used for establishing subdirectories\n",
      "    mappingfile: (dir) the file path to the mappingfile, which contains the LAT, LONG_, and ELEV coordinates of interest\n",
      "    subdir: (dir) the subdirectory to be established under homedir\n",
      "    catalog_label: (str) the preferred name for the series of catalogged filepaths\n",
      "\n"
     ]
    }
   ],
   "source": [
    "help(ogh.getDailyWRF_salathe2014)"
   ]
  },
  {
   "cell_type": "code",
   "execution_count": 12,
   "metadata": {
    "scrolled": true
   },
   "outputs": [
    {
     "name": "stdout",
     "output_type": "stream",
     "text": [
      "downloaded: data_48.53125_-121.59375\n",
      "downloaded: data_48.46875_-121.53125\n",
      "downloaded: data_48.46875_-121.65625\n",
      "downloaded: data_48.40625_-121.28125\n",
      "downloaded: data_48.40625_-121.40625\n",
      "downloaded: data_48.40625_-121.15625\n",
      "downloaded: data_48.40625_-121.53125\n",
      "downloaded: data_48.34375_-121.03125\n",
      "downloaded: data_48.40625_-121.65625\n",
      "downloaded: data_48.34375_-121.15625\n",
      "downloaded: data_48.34375_-121.28125\n",
      "downloaded: data_48.34375_-121.40625\n",
      "downloaded: data_48.34375_-121.53125\n",
      "downloaded: data_48.28125_-120.96875\n",
      "downloaded: data_48.28125_-121.09375\n",
      "downloaded: data_48.28125_-121.21875\n",
      "downloaded: data_48.28125_-121.34375\n",
      "downloaded: data_48.28125_-121.59375\n",
      "downloaded: data_48.28125_-121.46875\n",
      "downloaded: data_48.21875_-120.90625\n",
      "downloaded: data_48.46875_-121.46875\n",
      "downloaded: data_48.46875_-121.59375\n",
      "downloaded: data_48.40625_-121.09375\n",
      "downloaded: data_48.40625_-121.34375\n",
      "downloaded: data_48.40625_-121.46875\n",
      "downloaded: data_48.40625_-121.21875\n",
      "downloaded: data_48.40625_-121.59375\n",
      "downloaded: data_48.34375_-121.09375\n",
      "downloaded: data_48.34375_-120.96875\n",
      "downloaded: data_48.34375_-121.21875\n",
      "downloaded: data_48.34375_-121.34375\n",
      "downloaded: data_48.34375_-121.46875\n",
      "downloaded: data_48.34375_-121.59375\n",
      "downloaded: data_48.28125_-121.03125\n",
      "downloaded: data_48.28125_-121.15625\n",
      "downloaded: data_48.28125_-121.28125\n",
      "downloaded: data_48.28125_-121.40625\n",
      "downloaded: data_48.28125_-121.65625\n",
      "downloaded: data_48.28125_-121.53125\n",
      "downloaded: data_48.21875_-120.96875\n",
      "downloaded: data_48.21875_-121.03125\n",
      "downloaded: data_48.21875_-121.15625\n",
      "downloaded: data_48.21875_-121.28125\n",
      "downloaded: data_48.21875_-121.40625\n",
      "downloaded: data_48.21875_-121.53125\n",
      "downloaded: data_48.15625_-120.96875\n",
      "downloaded: data_48.21875_-121.65625\n",
      "downloaded: data_48.15625_-121.09375\n",
      "downloaded: data_48.15625_-121.21875\n",
      "downloaded: data_48.15625_-121.34375\n",
      "downloaded: data_48.15625_-121.46875\n",
      "downloaded: data_48.15625_-121.59375\n",
      "downloaded: data_48.15625_-121.71875\n",
      "downloaded: data_48.09375_-120.96875\n",
      "downloaded: data_48.09375_-121.09375\n",
      "downloaded: data_48.09375_-121.21875\n",
      "downloaded: data_48.09375_-121.34375\n",
      "downloaded: data_48.09375_-121.46875\n",
      "downloaded: data_48.09375_-121.59375\n",
      "downloaded: data_48.03125_-121.03125\n",
      "downloaded: data_48.21875_-121.09375\n",
      "downloaded: data_48.21875_-121.21875\n",
      "downloaded: data_48.21875_-121.34375\n",
      "downloaded: data_48.21875_-121.46875\n",
      "downloaded: data_48.21875_-121.59375\n",
      "downloaded: data_48.15625_-121.03125\n",
      "downloaded: data_48.15625_-120.90625\n",
      "downloaded: data_48.15625_-121.15625\n",
      "downloaded: data_48.15625_-121.28125\n",
      "downloaded: data_48.15625_-121.40625\n",
      "downloaded: data_48.15625_-121.53125\n",
      "downloaded: data_48.15625_-121.65625\n",
      "downloaded: data_48.09375_-120.90625\n",
      "downloaded: data_48.09375_-121.03125\n",
      "downloaded: data_48.09375_-121.15625\n",
      "downloaded: data_48.09375_-121.28125\n",
      "downloaded: data_48.09375_-121.40625\n",
      "downloaded: data_48.09375_-121.53125\n",
      "downloaded: data_48.09375_-121.65625\n",
      "downloaded: data_48.03125_-121.09375\n",
      "downloaded: data_48.03125_-121.15625\n",
      "downloaded: data_48.03125_-121.28125\n",
      "downloaded: data_48.03125_-121.40625\n",
      "downloaded: data_47.96875_-121.09375\n",
      "downloaded: data_47.96875_-121.21875\n",
      "downloaded: data_47.96875_-121.34375\n",
      "downloaded: data_47.96875_-121.46875\n",
      "downloaded: data_47.90625_-121.21875\n",
      "downloaded: data_47.90625_-121.34375\n",
      "downloaded: data_48.03125_-121.21875\n",
      "downloaded: data_48.03125_-121.34375\n",
      "downloaded: data_48.03125_-121.46875\n",
      "downloaded: data_47.96875_-121.15625\n",
      "downloaded: data_47.96875_-121.28125\n",
      "downloaded: data_47.96875_-121.40625\n",
      "downloaded: data_47.96875_-121.53125\n",
      "downloaded: data_47.90625_-121.28125\n",
      "downloaded: data_47.90625_-121.40625\n"
     ]
    }
   ],
   "source": [
    "Daily_WRFraw_1950_2010 = ogh.getDailyWRF_salathe2014(homedir, mappingfile)"
   ]
  },
  {
   "cell_type": "markdown",
   "metadata": {},
   "source": [
    "Helpful hint: Jupyter Notebooks on the CUAHSI JupyterHub server on ROGER supercomputer can use Python or bash command line coding to explore the data folders.  Alternatively, you can click on the orange Jupyter icon in the upper left corner to open the folder view to see where in the world your files are."
   ]
  },
  {
   "cell_type": "code",
   "execution_count": 13,
   "metadata": {
    "scrolled": false
   },
   "outputs": [
    {
     "name": "stdout",
     "output_type": "stream",
     "text": [
      "This is the list of folders in your directory for this HydroShare resource.\n",
      "['salathe2014', 'livneh2013', 'biascorrWRF_liv']\n"
     ]
    }
   ],
   "source": [
    "print('This is the list of folders in your directory for this HydroShare resource.')\n",
    "test = [each for each in os.listdir(homedir) if os.path.isdir(each)]\n",
    "print(test)"
   ]
  },
  {
   "cell_type": "markdown",
   "metadata": {},
   "source": [
    "## 4.  Calculate Long-term Monthly Bias Corrections for WRF using Livneh Low Elevation data"
   ]
  },
  {
   "cell_type": "code",
   "execution_count": 19,
   "metadata": {},
   "outputs": [
    {
     "data": {
      "text/plain": [
       "('1950-01-01', '2010-12-31')"
      ]
     },
     "execution_count": 19,
     "metadata": {},
     "output_type": "execute_result"
    }
   ],
   "source": [
    "# take two tuples representing start and end date ranges, then find their overlapping date_range\n",
    "dr1 = meta_file['dailymet_livneh2013']['date_range']\n",
    "dr2 = meta_file['dailywrf_salathe2014']['date_range']\n",
    "\n",
    "dr = ogh.overlappingDates(tuple([dr1['start'],dr1['end']]), tuple([dr2['start'],dr2['end']]))\n",
    "dr"
   ]
  },
  {
   "cell_type": "code",
   "execution_count": 20,
   "metadata": {
    "scrolled": false
   },
   "outputs": [
    {
     "name": "stdout",
     "output_type": "stream",
     "text": [
      "   FID       LAT      LONG_    ELEV  \\\n",
      "0    0  48.53125 -121.59375  1113.0   \n",
      "1    1  48.46875 -121.46875   646.0   \n",
      "2    2  48.46875 -121.53125   321.0   \n",
      "3    3  48.46875 -121.59375   164.0   \n",
      "4    4  48.46875 -121.65625   369.0   \n",
      "\n",
      "                                 dailymet_livneh2013  \\\n",
      "0  /home/jovyan/work/notebooks/data/0236ae196d204...   \n",
      "1  /home/jovyan/work/notebooks/data/0236ae196d204...   \n",
      "2  /home/jovyan/work/notebooks/data/0236ae196d204...   \n",
      "3  /home/jovyan/work/notebooks/data/0236ae196d204...   \n",
      "4  /home/jovyan/work/notebooks/data/0236ae196d204...   \n",
      "\n",
      "                                dailywrf_salathe2014  \\\n",
      "0  /home/jovyan/work/notebooks/data/0236ae196d204...   \n",
      "1  /home/jovyan/work/notebooks/data/0236ae196d204...   \n",
      "2  /home/jovyan/work/notebooks/data/0236ae196d204...   \n",
      "3  /home/jovyan/work/notebooks/data/0236ae196d204...   \n",
      "4  /home/jovyan/work/notebooks/data/0236ae196d204...   \n",
      "\n",
      "                           dailymet_livneh2013_wrfbc  \n",
      "0  /home/jovyan/work/notebooks/data/0236ae196d204...  \n",
      "1  /home/jovyan/work/notebooks/data/0236ae196d204...  \n",
      "2  /home/jovyan/work/notebooks/data/0236ae196d204...  \n",
      "3  /home/jovyan/work/notebooks/data/0236ae196d204...  \n",
      "4  /home/jovyan/work/notebooks/data/0236ae196d204...  \n",
      "Number of gridded data files: 98\n",
      "Minimum elevation:  164.0 m\n",
      "Mean elevation:  1162 m\n",
      "Maximum elevation:  2216.0 m\n",
      "   FID       LAT      LONG_    ELEV  \\\n",
      "0    0  48.53125 -121.59375  1113.0   \n",
      "1    1  48.46875 -121.46875   646.0   \n",
      "2    2  48.46875 -121.53125   321.0   \n",
      "3    3  48.46875 -121.59375   164.0   \n",
      "4    4  48.46875 -121.65625   369.0   \n",
      "\n",
      "                                 dailymet_livneh2013  \\\n",
      "0  /home/jovyan/work/notebooks/data/0236ae196d204...   \n",
      "1  /home/jovyan/work/notebooks/data/0236ae196d204...   \n",
      "2  /home/jovyan/work/notebooks/data/0236ae196d204...   \n",
      "3  /home/jovyan/work/notebooks/data/0236ae196d204...   \n",
      "4  /home/jovyan/work/notebooks/data/0236ae196d204...   \n",
      "\n",
      "                                dailywrf_salathe2014  \\\n",
      "0  /home/jovyan/work/notebooks/data/0236ae196d204...   \n",
      "1  /home/jovyan/work/notebooks/data/0236ae196d204...   \n",
      "2  /home/jovyan/work/notebooks/data/0236ae196d204...   \n",
      "3  /home/jovyan/work/notebooks/data/0236ae196d204...   \n",
      "4  /home/jovyan/work/notebooks/data/0236ae196d204...   \n",
      "\n",
      "                           dailymet_livneh2013_wrfbc  \n",
      "0  /home/jovyan/work/notebooks/data/0236ae196d204...  \n",
      "1  /home/jovyan/work/notebooks/data/0236ae196d204...  \n",
      "2  /home/jovyan/work/notebooks/data/0236ae196d204...  \n",
      "3  /home/jovyan/work/notebooks/data/0236ae196d204...  \n",
      "4  /home/jovyan/work/notebooks/data/0236ae196d204...  \n",
      "Number of gridded data files: 98\n",
      "Minimum elevation:  164.0 m\n",
      "Mean elevation:  1162 m\n",
      "Maximum elevation:  2216.0 m\n"
     ]
    },
    {
     "data": {
      "text/plain": [
       "['PRECIP_dailymet_livneh2013',\n",
       " 'PRECIP_dailywrf_salathe2014',\n",
       " 'TMAX_dailymet_livneh2013',\n",
       " 'TMAX_dailywrf_salathe2014',\n",
       " 'TMIN_dailymet_livneh2013',\n",
       " 'TMIN_dailywrf_salathe2014',\n",
       " 'WINDSPD_dailymet_livneh2013',\n",
       " 'WINDSPD_dailywrf_salathe2014',\n",
       " 'analysis_elev_max',\n",
       " 'analysis_elev_max_cutoff',\n",
       " 'analysis_elev_min',\n",
       " 'analysis_elev_min_cutoff',\n",
       " 'anom_year_PRECIP_dailymet_livneh2013',\n",
       " 'anom_year_PRECIP_dailywrf_salathe2014',\n",
       " 'anom_year_TMAX_dailymet_livneh2013',\n",
       " 'anom_year_TMAX_dailywrf_salathe2014',\n",
       " 'anom_year_TMIN_dailymet_livneh2013',\n",
       " 'anom_year_TMIN_dailywrf_salathe2014',\n",
       " 'anom_year_WINDSPD_dailymet_livneh2013',\n",
       " 'anom_year_WINDSPD_dailywrf_salathe2014',\n",
       " 'meanallyear_PRECIP_dailymet_livneh2013',\n",
       " 'meanallyear_PRECIP_dailywrf_salathe2014',\n",
       " 'meanallyear_TMAX_dailymet_livneh2013',\n",
       " 'meanallyear_TMAX_dailywrf_salathe2014',\n",
       " 'meanallyear_TMIN_dailymet_livneh2013',\n",
       " 'meanallyear_TMIN_dailywrf_salathe2014',\n",
       " 'meanallyear_WINDSPD_dailymet_livneh2013',\n",
       " 'meanallyear_WINDSPD_dailywrf_salathe2014',\n",
       " 'meanmonth_PRECIP_dailymet_livneh2013',\n",
       " 'meanmonth_PRECIP_dailywrf_salathe2014',\n",
       " 'meanmonth_TMAX_dailymet_livneh2013',\n",
       " 'meanmonth_TMAX_dailywrf_salathe2014',\n",
       " 'meanmonth_TMIN_dailymet_livneh2013',\n",
       " 'meanmonth_TMIN_dailywrf_salathe2014',\n",
       " 'meanmonth_WINDSPD_dailymet_livneh2013',\n",
       " 'meanmonth_WINDSPD_dailywrf_salathe2014',\n",
       " 'meanmonth_maxelev_PRECIP_dailymet_livneh2013',\n",
       " 'meanmonth_maxelev_PRECIP_dailywrf_salathe2014',\n",
       " 'meanmonth_maxelev_TMAX_dailymet_livneh2013',\n",
       " 'meanmonth_maxelev_TMAX_dailywrf_salathe2014',\n",
       " 'meanmonth_maxelev_TMIN_dailymet_livneh2013',\n",
       " 'meanmonth_maxelev_TMIN_dailywrf_salathe2014',\n",
       " 'meanmonth_maxelev_WINDSPD_dailymet_livneh2013',\n",
       " 'meanmonth_maxelev_WINDSPD_dailywrf_salathe2014',\n",
       " 'meanmonth_midelev_PRECIP_dailymet_livneh2013',\n",
       " 'meanmonth_midelev_PRECIP_dailywrf_salathe2014',\n",
       " 'meanmonth_midelev_TMAX_dailymet_livneh2013',\n",
       " 'meanmonth_midelev_TMAX_dailywrf_salathe2014',\n",
       " 'meanmonth_midelev_TMIN_dailymet_livneh2013',\n",
       " 'meanmonth_midelev_TMIN_dailywrf_salathe2014',\n",
       " 'meanmonth_midelev_WINDSPD_dailymet_livneh2013',\n",
       " 'meanmonth_midelev_WINDSPD_dailywrf_salathe2014',\n",
       " 'meanmonth_minelev_PRECIP_dailymet_livneh2013',\n",
       " 'meanmonth_minelev_PRECIP_dailywrf_salathe2014',\n",
       " 'meanmonth_minelev_TMAX_dailymet_livneh2013',\n",
       " 'meanmonth_minelev_TMAX_dailywrf_salathe2014',\n",
       " 'meanmonth_minelev_TMIN_dailymet_livneh2013',\n",
       " 'meanmonth_minelev_TMIN_dailywrf_salathe2014',\n",
       " 'meanmonth_minelev_WINDSPD_dailymet_livneh2013',\n",
       " 'meanmonth_minelev_WINDSPD_dailywrf_salathe2014',\n",
       " 'meanyear_PRECIP_dailymet_livneh2013',\n",
       " 'meanyear_PRECIP_dailywrf_salathe2014',\n",
       " 'meanyear_TMAX_dailymet_livneh2013',\n",
       " 'meanyear_TMAX_dailywrf_salathe2014',\n",
       " 'meanyear_TMIN_dailymet_livneh2013',\n",
       " 'meanyear_TMIN_dailywrf_salathe2014',\n",
       " 'meanyear_WINDSPD_dailymet_livneh2013',\n",
       " 'meanyear_WINDSPD_dailywrf_salathe2014',\n",
       " 'month_PRECIP_dailymet_livneh2013',\n",
       " 'month_PRECIP_dailywrf_salathe2014',\n",
       " 'month_TMAX_dailymet_livneh2013',\n",
       " 'month_TMAX_dailywrf_salathe2014',\n",
       " 'month_TMIN_dailymet_livneh2013',\n",
       " 'month_TMIN_dailywrf_salathe2014',\n",
       " 'month_WINDSPD_dailymet_livneh2013',\n",
       " 'month_WINDSPD_dailywrf_salathe2014',\n",
       " 'year_PRECIP_dailymet_livneh2013',\n",
       " 'year_PRECIP_dailywrf_salathe2014',\n",
       " 'year_TMAX_dailymet_livneh2013',\n",
       " 'year_TMAX_dailywrf_salathe2014',\n",
       " 'year_TMIN_dailymet_livneh2013',\n",
       " 'year_TMIN_dailywrf_salathe2014',\n",
       " 'year_WINDSPD_dailymet_livneh2013',\n",
       " 'year_WINDSPD_dailywrf_salathe2014']"
      ]
     },
     "execution_count": 20,
     "metadata": {},
     "output_type": "execute_result"
    }
   ],
   "source": [
    "#initiate new dictionary with original data\n",
    "ltm_0to3000 = ogh.gridclim_dict(gridclim_folder='livneh2013_MET',\n",
    "                               loc_name=loc_name,\n",
    "                               dataset='dailymet_livneh2013',\n",
    "                               mappingfile=mappingfile, \n",
    "                               metadata=meta_file,\n",
    "                               file_start_date=None, \n",
    "                               file_end_date=None,\n",
    "                               subset_start_date=dr[0],\n",
    "                               subset_end_date=dr[1])\n",
    "\n",
    "ltm_0to3000 = ogh.gridclim_dict(gridclim_folder='livneh2013_MET',\n",
    "                               loc_name=loc_name,\n",
    "                               dataset='dailywrf_salathe2014',\n",
    "                               mappingfile=mappingfile, \n",
    "                               metadata=meta_file,\n",
    "                               file_start_date=None, \n",
    "                               file_end_date=None,\n",
    "                               subset_start_date=dr[0],\n",
    "                               subset_end_date=dr[1],\n",
    "                               df_dict=ltm_0to3000)\n",
    "\n",
    "sorted(ltm_0to3000.keys())"
   ]
  },
  {
   "cell_type": "markdown",
   "metadata": {},
   "source": [
    "## 5. Perform bias correction using differences between WRFbc (from 4) and Liv2013"
   ]
  },
  {
   "cell_type": "code",
   "execution_count": 21,
   "metadata": {
    "scrolled": false
   },
   "outputs": [
    {
     "name": "stdout",
     "output_type": "stream",
     "text": [
      "Precipitation values are a ratio of WRF_m/Liv_m and Temperature values are the difference between WRF_m-Liv_m\n",
      "['PRECIP_0to3000m', 'TMAX_0to3000m', 'TMIN_0to3000m', 'WINDSPD_0to3000m']\n"
     ]
    }
   ],
   "source": [
    "BiasCorr_wrfbc = ogh.compute_diffs(df_dict=ltm_0to3000, df_str='0to3000m',\n",
    "                                   gridclimname1='dailywrf_salathe2014',\n",
    "                                   gridclimname2='dailymet_livneh2013',\n",
    "                                   prefix2=['month'],\n",
    "                                   prefix1=meta_file['dailymet_livneh2013']['variable_list'])\n",
    "\n",
    "print('Precipitation values are a ratio of WRF_m/Liv_m and Temperature values are the difference between WRF_m-Liv_m')\n",
    "\n",
    "print(sorted(BiasCorr_wrfbc.keys()))"
   ]
  },
  {
   "cell_type": "code",
   "execution_count": 22,
   "metadata": {},
   "outputs": [
    {
     "data": {
      "text/plain": [
       "datetime.timedelta(0, 558, 692957)"
      ]
     },
     "execution_count": 22,
     "metadata": {},
     "output_type": "execute_result"
    }
   ],
   "source": [
    "datetime.now()-start_time"
   ]
  },
  {
   "cell_type": "code",
   "execution_count": 23,
   "metadata": {
    "scrolled": false
   },
   "outputs": [
    {
     "name": "stdout",
     "output_type": "stream",
     "text": [
      "   FID       LAT      LONG_    ELEV  \\\n",
      "0    0  48.53125 -121.59375  1113.0   \n",
      "1    1  48.46875 -121.46875   646.0   \n",
      "2    2  48.46875 -121.53125   321.0   \n",
      "3    3  48.46875 -121.59375   164.0   \n",
      "4    4  48.46875 -121.65625   369.0   \n",
      "\n",
      "                                 dailymet_livneh2013  \\\n",
      "0  /home/jovyan/work/notebooks/data/0236ae196d204...   \n",
      "1  /home/jovyan/work/notebooks/data/0236ae196d204...   \n",
      "2  /home/jovyan/work/notebooks/data/0236ae196d204...   \n",
      "3  /home/jovyan/work/notebooks/data/0236ae196d204...   \n",
      "4  /home/jovyan/work/notebooks/data/0236ae196d204...   \n",
      "\n",
      "                                dailywrf_salathe2014  \\\n",
      "0  /home/jovyan/work/notebooks/data/0236ae196d204...   \n",
      "1  /home/jovyan/work/notebooks/data/0236ae196d204...   \n",
      "2  /home/jovyan/work/notebooks/data/0236ae196d204...   \n",
      "3  /home/jovyan/work/notebooks/data/0236ae196d204...   \n",
      "4  /home/jovyan/work/notebooks/data/0236ae196d204...   \n",
      "\n",
      "                           dailymet_livneh2013_wrfbc  \n",
      "0  /home/jovyan/work/notebooks/data/0236ae196d204...  \n",
      "1  /home/jovyan/work/notebooks/data/0236ae196d204...  \n",
      "2  /home/jovyan/work/notebooks/data/0236ae196d204...  \n",
      "3  /home/jovyan/work/notebooks/data/0236ae196d204...  \n",
      "4  /home/jovyan/work/notebooks/data/0236ae196d204...  \n",
      "Number of gridded data files: 98\n",
      "Minimum elevation:  164.0 m\n",
      "Mean elevation:  1162 m\n",
      "Maximum elevation:  2216.0 m\n",
      "0 station: (0.0, 48.53125, -121.59375)\n",
      "1 station: (1.0, 48.46875, -121.46875)\n",
      "2 station: (2.0, 48.46875, -121.53125)\n",
      "3 station: (3.0, 48.46875, -121.59375)\n",
      "4 station: (4.0, 48.46875, -121.65625)\n",
      "5 station: (5.0, 48.40625, -121.09375)\n",
      "6 station: (6.0, 48.40625, -121.15625)\n",
      "7 station: (7.0, 48.40625, -121.21875)\n",
      "8 station: (8.0, 48.40625, -121.28125)\n",
      "9 station: (9.0, 48.40625, -121.34375)\n",
      "10 station: (10.0, 48.40625, -121.40625)\n",
      "11 station: (11.0, 48.40625, -121.46875)\n",
      "12 station: (12.0, 48.40625, -121.53125)\n",
      "13 station: (13.0, 48.40625, -121.59375)\n",
      "14 station: (14.0, 48.40625, -121.65625)\n",
      "15 station: (15.0, 48.34375, -120.96875)\n",
      "16 station: (16.0, 48.34375, -121.03125)\n",
      "17 station: (17.0, 48.34375, -121.09375)\n",
      "18 station: (18.0, 48.34375, -121.15625)\n",
      "19 station: (19.0, 48.34375, -121.21875)\n",
      "20 station: (20.0, 48.34375, -121.28125)\n",
      "21 station: (21.0, 48.34375, -121.34375)\n",
      "22 station: (22.0, 48.34375, -121.40625)\n",
      "23 station: (23.0, 48.34375, -121.46875)\n",
      "24 station: (24.0, 48.34375, -121.53125)\n",
      "25 station: (25.0, 48.34375, -121.59375)\n",
      "26 station: (26.0, 48.28125, -120.96875)\n",
      "27 station: (27.0, 48.28125, -121.03125)\n",
      "28 station: (28.0, 48.28125, -121.09375)\n",
      "29 station: (29.0, 48.28125, -121.15625)\n",
      "30 station: (30.0, 48.28125, -121.21875)\n",
      "31 station: (31.0, 48.28125, -121.28125)\n",
      "32 station: (32.0, 48.28125, -121.34375)\n",
      "33 station: (33.0, 48.28125, -121.40625)\n",
      "34 station: (34.0, 48.28125, -121.46875)\n",
      "35 station: (35.0, 48.28125, -121.53125)\n",
      "36 station: (36.0, 48.28125, -121.59375)\n",
      "37 station: (37.0, 48.28125, -121.65625)\n",
      "38 station: (38.0, 48.21875, -120.90625)\n",
      "39 station: (39.0, 48.21875, -120.96875)\n",
      "40 station: (40.0, 48.21875, -121.03125)\n",
      "41 station: (41.0, 48.21875, -121.09375)\n",
      "42 station: (42.0, 48.21875, -121.15625)\n",
      "43 station: (43.0, 48.21875, -121.21875)\n",
      "44 station: (44.0, 48.21875, -121.28125)\n",
      "45 station: (45.0, 48.21875, -121.34375)\n",
      "46 station: (46.0, 48.21875, -121.40625)\n",
      "47 station: (47.0, 48.21875, -121.46875)\n",
      "48 station: (48.0, 48.21875, -121.53125)\n",
      "49 station: (49.0, 48.21875, -121.59375)\n",
      "50 station: (50.0, 48.21875, -121.65625)\n",
      "51 station: (51.0, 48.15625, -120.90625)\n",
      "52 station: (52.0, 48.15625, -120.96875)\n",
      "53 station: (53.0, 48.15625, -121.03125)\n",
      "54 station: (54.0, 48.15625, -121.09375)\n",
      "55 station: (55.0, 48.15625, -121.15625)\n",
      "56 station: (56.0, 48.15625, -121.21875)\n",
      "57 station: (57.0, 48.15625, -121.28125)\n",
      "58 station: (58.0, 48.15625, -121.34375)\n",
      "59 station: (59.0, 48.15625, -121.40625)\n",
      "60 station: (60.0, 48.15625, -121.46875)\n",
      "61 station: (61.0, 48.15625, -121.53125)\n",
      "62 station: (62.0, 48.15625, -121.59375)\n",
      "63 station: (63.0, 48.15625, -121.65625)\n",
      "64 station: (64.0, 48.15625, -121.71875)\n",
      "65 station: (65.0, 48.09375, -120.90625)\n",
      "66 station: (66.0, 48.09375, -120.96875)\n",
      "67 station: (67.0, 48.09375, -121.03125)\n",
      "68 station: (68.0, 48.09375, -121.09375)\n",
      "69 station: (69.0, 48.09375, -121.15625)\n",
      "70 station: (70.0, 48.09375, -121.21875)\n",
      "71 station: (71.0, 48.09375, -121.28125)\n",
      "72 station: (72.0, 48.09375, -121.34375)\n",
      "73 station: (73.0, 48.09375, -121.40625)\n",
      "74 station: (74.0, 48.09375, -121.46875)\n",
      "75 station: (75.0, 48.09375, -121.53125)\n",
      "76 station: (76.0, 48.09375, -121.59375)\n",
      "77 station: (77.0, 48.09375, -121.65625)\n",
      "78 station: (78.0, 48.03125, -121.03125)\n",
      "79 station: (79.0, 48.03125, -121.09375)\n",
      "80 station: (80.0, 48.03125, -121.15625)\n",
      "81 station: (81.0, 48.03125, -121.21875)\n",
      "82 station: (82.0, 48.03125, -121.28125)\n",
      "83 station: (83.0, 48.03125, -121.34375)\n",
      "84 station: (84.0, 48.03125, -121.40625)\n",
      "85 station: (85.0, 48.03125, -121.46875)\n",
      "86 station: (86.0, 47.96875, -121.09375)\n",
      "87 station: (87.0, 47.96875, -121.15625)\n",
      "88 station: (88.0, 47.96875, -121.21875)\n",
      "89 station: (89.0, 47.96875, -121.28125)\n",
      "90 station: (90.0, 47.96875, -121.34375)\n",
      "91 station: (91.0, 47.96875, -121.40625)\n",
      "92 station: (92.0, 47.96875, -121.46875)\n",
      "93 station: (93.0, 47.96875, -121.53125)\n",
      "94 station: (94.0, 47.90625, -121.21875)\n",
      "95 station: (95.0, 47.90625, -121.28125)\n",
      "96 station: (96.0, 47.90625, -121.34375)\n",
      "97 station: (97.0, 47.90625, -121.40625)\n",
      "mission complete. this device will now self-destruct.\n",
      "just kidding.\n"
     ]
    }
   ],
   "source": [
    "Daily_MET_1915_2011_WRFbc_liv, meta_file = ogh.makebelieve(homedir=homedir,\n",
    "                                                           mappingfile=mappingfile,\n",
    "                                                           BiasCorr=BiasCorr_wrfbc,\n",
    "                                                           metadata=meta_file,\n",
    "                                                           start_catalog_label='dailymet_livneh2013',\n",
    "                                                           end_catalog_label='dailymet_livneh2013_wrfbc', \n",
    "                                                           file_start_date=None,\n",
    "                                                           file_end_date=None,\n",
    "                                                           data_dir=None,\n",
    "                                                           dest_dir_suffix='biascorrWRF_liv')"
   ]
  },
  {
   "cell_type": "code",
   "execution_count": 24,
   "metadata": {
    "scrolled": false
   },
   "outputs": [
    {
     "name": "stdout",
     "output_type": "stream",
     "text": [
      "   FID       LAT      LONG_    ELEV  \\\n",
      "0    0  48.53125 -121.59375  1113.0   \n",
      "1    1  48.46875 -121.46875   646.0   \n",
      "2    2  48.46875 -121.53125   321.0   \n",
      "3    3  48.46875 -121.59375   164.0   \n",
      "4    4  48.46875 -121.65625   369.0   \n",
      "\n",
      "                                 dailymet_livneh2013  \\\n",
      "0  /home/jovyan/work/notebooks/data/0236ae196d204...   \n",
      "1  /home/jovyan/work/notebooks/data/0236ae196d204...   \n",
      "2  /home/jovyan/work/notebooks/data/0236ae196d204...   \n",
      "3  /home/jovyan/work/notebooks/data/0236ae196d204...   \n",
      "4  /home/jovyan/work/notebooks/data/0236ae196d204...   \n",
      "\n",
      "                                dailywrf_salathe2014  \\\n",
      "0  /home/jovyan/work/notebooks/data/0236ae196d204...   \n",
      "1  /home/jovyan/work/notebooks/data/0236ae196d204...   \n",
      "2  /home/jovyan/work/notebooks/data/0236ae196d204...   \n",
      "3  /home/jovyan/work/notebooks/data/0236ae196d204...   \n",
      "4  /home/jovyan/work/notebooks/data/0236ae196d204...   \n",
      "\n",
      "                           dailymet_livneh2013_wrfbc  \n",
      "0  /home/jovyan/work/notebooks/data/0236ae196d204...  \n",
      "1  /home/jovyan/work/notebooks/data/0236ae196d204...  \n",
      "2  /home/jovyan/work/notebooks/data/0236ae196d204...  \n",
      "3  /home/jovyan/work/notebooks/data/0236ae196d204...  \n",
      "4  /home/jovyan/work/notebooks/data/0236ae196d204...  \n",
      "Number of gridded data files: 98\n",
      "Minimum elevation:  164.0 m\n",
      "Mean elevation:  1162 m\n",
      "Maximum elevation:  2216.0 m\n"
     ]
    },
    {
     "data": {
      "text/plain": [
       "['PRECIP_dailymet_livneh2013',\n",
       " 'PRECIP_dailymet_livneh2013_wrfbc',\n",
       " 'PRECIP_dailywrf_salathe2014',\n",
       " 'TMAX_dailymet_livneh2013',\n",
       " 'TMAX_dailymet_livneh2013_wrfbc',\n",
       " 'TMAX_dailywrf_salathe2014',\n",
       " 'TMIN_dailymet_livneh2013',\n",
       " 'TMIN_dailymet_livneh2013_wrfbc',\n",
       " 'TMIN_dailywrf_salathe2014',\n",
       " 'WINDSPD_dailymet_livneh2013',\n",
       " 'WINDSPD_dailymet_livneh2013_wrfbc',\n",
       " 'WINDSPD_dailywrf_salathe2014',\n",
       " 'analysis_elev_max',\n",
       " 'analysis_elev_max_cutoff',\n",
       " 'analysis_elev_min',\n",
       " 'analysis_elev_min_cutoff',\n",
       " 'anom_year_PRECIP_dailymet_livneh2013',\n",
       " 'anom_year_PRECIP_dailymet_livneh2013_wrfbc',\n",
       " 'anom_year_PRECIP_dailywrf_salathe2014',\n",
       " 'anom_year_TMAX_dailymet_livneh2013',\n",
       " 'anom_year_TMAX_dailymet_livneh2013_wrfbc',\n",
       " 'anom_year_TMAX_dailywrf_salathe2014',\n",
       " 'anom_year_TMIN_dailymet_livneh2013',\n",
       " 'anom_year_TMIN_dailymet_livneh2013_wrfbc',\n",
       " 'anom_year_TMIN_dailywrf_salathe2014',\n",
       " 'anom_year_WINDSPD_dailymet_livneh2013',\n",
       " 'anom_year_WINDSPD_dailymet_livneh2013_wrfbc',\n",
       " 'anom_year_WINDSPD_dailywrf_salathe2014',\n",
       " 'meanallyear_PRECIP_dailymet_livneh2013',\n",
       " 'meanallyear_PRECIP_dailymet_livneh2013_wrfbc',\n",
       " 'meanallyear_PRECIP_dailywrf_salathe2014',\n",
       " 'meanallyear_TMAX_dailymet_livneh2013',\n",
       " 'meanallyear_TMAX_dailymet_livneh2013_wrfbc',\n",
       " 'meanallyear_TMAX_dailywrf_salathe2014',\n",
       " 'meanallyear_TMIN_dailymet_livneh2013',\n",
       " 'meanallyear_TMIN_dailymet_livneh2013_wrfbc',\n",
       " 'meanallyear_TMIN_dailywrf_salathe2014',\n",
       " 'meanallyear_WINDSPD_dailymet_livneh2013',\n",
       " 'meanallyear_WINDSPD_dailymet_livneh2013_wrfbc',\n",
       " 'meanallyear_WINDSPD_dailywrf_salathe2014',\n",
       " 'meanmonth_PRECIP_dailymet_livneh2013',\n",
       " 'meanmonth_PRECIP_dailymet_livneh2013_wrfbc',\n",
       " 'meanmonth_PRECIP_dailywrf_salathe2014',\n",
       " 'meanmonth_TMAX_dailymet_livneh2013',\n",
       " 'meanmonth_TMAX_dailymet_livneh2013_wrfbc',\n",
       " 'meanmonth_TMAX_dailywrf_salathe2014',\n",
       " 'meanmonth_TMIN_dailymet_livneh2013',\n",
       " 'meanmonth_TMIN_dailymet_livneh2013_wrfbc',\n",
       " 'meanmonth_TMIN_dailywrf_salathe2014',\n",
       " 'meanmonth_WINDSPD_dailymet_livneh2013',\n",
       " 'meanmonth_WINDSPD_dailymet_livneh2013_wrfbc',\n",
       " 'meanmonth_WINDSPD_dailywrf_salathe2014',\n",
       " 'meanmonth_maxelev_PRECIP_dailymet_livneh2013',\n",
       " 'meanmonth_maxelev_PRECIP_dailymet_livneh2013_wrfbc',\n",
       " 'meanmonth_maxelev_PRECIP_dailywrf_salathe2014',\n",
       " 'meanmonth_maxelev_TMAX_dailymet_livneh2013',\n",
       " 'meanmonth_maxelev_TMAX_dailymet_livneh2013_wrfbc',\n",
       " 'meanmonth_maxelev_TMAX_dailywrf_salathe2014',\n",
       " 'meanmonth_maxelev_TMIN_dailymet_livneh2013',\n",
       " 'meanmonth_maxelev_TMIN_dailymet_livneh2013_wrfbc',\n",
       " 'meanmonth_maxelev_TMIN_dailywrf_salathe2014',\n",
       " 'meanmonth_maxelev_WINDSPD_dailymet_livneh2013',\n",
       " 'meanmonth_maxelev_WINDSPD_dailymet_livneh2013_wrfbc',\n",
       " 'meanmonth_maxelev_WINDSPD_dailywrf_salathe2014',\n",
       " 'meanmonth_midelev_PRECIP_dailymet_livneh2013',\n",
       " 'meanmonth_midelev_PRECIP_dailymet_livneh2013_wrfbc',\n",
       " 'meanmonth_midelev_PRECIP_dailywrf_salathe2014',\n",
       " 'meanmonth_midelev_TMAX_dailymet_livneh2013',\n",
       " 'meanmonth_midelev_TMAX_dailymet_livneh2013_wrfbc',\n",
       " 'meanmonth_midelev_TMAX_dailywrf_salathe2014',\n",
       " 'meanmonth_midelev_TMIN_dailymet_livneh2013',\n",
       " 'meanmonth_midelev_TMIN_dailymet_livneh2013_wrfbc',\n",
       " 'meanmonth_midelev_TMIN_dailywrf_salathe2014',\n",
       " 'meanmonth_midelev_WINDSPD_dailymet_livneh2013',\n",
       " 'meanmonth_midelev_WINDSPD_dailymet_livneh2013_wrfbc',\n",
       " 'meanmonth_midelev_WINDSPD_dailywrf_salathe2014',\n",
       " 'meanmonth_minelev_PRECIP_dailymet_livneh2013',\n",
       " 'meanmonth_minelev_PRECIP_dailymet_livneh2013_wrfbc',\n",
       " 'meanmonth_minelev_PRECIP_dailywrf_salathe2014',\n",
       " 'meanmonth_minelev_TMAX_dailymet_livneh2013',\n",
       " 'meanmonth_minelev_TMAX_dailymet_livneh2013_wrfbc',\n",
       " 'meanmonth_minelev_TMAX_dailywrf_salathe2014',\n",
       " 'meanmonth_minelev_TMIN_dailymet_livneh2013',\n",
       " 'meanmonth_minelev_TMIN_dailymet_livneh2013_wrfbc',\n",
       " 'meanmonth_minelev_TMIN_dailywrf_salathe2014',\n",
       " 'meanmonth_minelev_WINDSPD_dailymet_livneh2013',\n",
       " 'meanmonth_minelev_WINDSPD_dailymet_livneh2013_wrfbc',\n",
       " 'meanmonth_minelev_WINDSPD_dailywrf_salathe2014',\n",
       " 'meanyear_PRECIP_dailymet_livneh2013',\n",
       " 'meanyear_PRECIP_dailymet_livneh2013_wrfbc',\n",
       " 'meanyear_PRECIP_dailywrf_salathe2014',\n",
       " 'meanyear_TMAX_dailymet_livneh2013',\n",
       " 'meanyear_TMAX_dailymet_livneh2013_wrfbc',\n",
       " 'meanyear_TMAX_dailywrf_salathe2014',\n",
       " 'meanyear_TMIN_dailymet_livneh2013',\n",
       " 'meanyear_TMIN_dailymet_livneh2013_wrfbc',\n",
       " 'meanyear_TMIN_dailywrf_salathe2014',\n",
       " 'meanyear_WINDSPD_dailymet_livneh2013',\n",
       " 'meanyear_WINDSPD_dailymet_livneh2013_wrfbc',\n",
       " 'meanyear_WINDSPD_dailywrf_salathe2014',\n",
       " 'month_PRECIP_dailymet_livneh2013',\n",
       " 'month_PRECIP_dailymet_livneh2013_wrfbc',\n",
       " 'month_PRECIP_dailywrf_salathe2014',\n",
       " 'month_TMAX_dailymet_livneh2013',\n",
       " 'month_TMAX_dailymet_livneh2013_wrfbc',\n",
       " 'month_TMAX_dailywrf_salathe2014',\n",
       " 'month_TMIN_dailymet_livneh2013',\n",
       " 'month_TMIN_dailymet_livneh2013_wrfbc',\n",
       " 'month_TMIN_dailywrf_salathe2014',\n",
       " 'month_WINDSPD_dailymet_livneh2013',\n",
       " 'month_WINDSPD_dailymet_livneh2013_wrfbc',\n",
       " 'month_WINDSPD_dailywrf_salathe2014',\n",
       " 'year_PRECIP_dailymet_livneh2013',\n",
       " 'year_PRECIP_dailymet_livneh2013_wrfbc',\n",
       " 'year_PRECIP_dailywrf_salathe2014',\n",
       " 'year_TMAX_dailymet_livneh2013',\n",
       " 'year_TMAX_dailymet_livneh2013_wrfbc',\n",
       " 'year_TMAX_dailywrf_salathe2014',\n",
       " 'year_TMIN_dailymet_livneh2013',\n",
       " 'year_TMIN_dailymet_livneh2013_wrfbc',\n",
       " 'year_TMIN_dailywrf_salathe2014',\n",
       " 'year_WINDSPD_dailymet_livneh2013',\n",
       " 'year_WINDSPD_dailymet_livneh2013_wrfbc',\n",
       " 'year_WINDSPD_dailywrf_salathe2014']"
      ]
     },
     "execution_count": 24,
     "metadata": {},
     "output_type": "execute_result"
    }
   ],
   "source": [
    "#initiate new dictionary with original data\n",
    "ltm_0to3000 = ogh.gridclim_dict(gridclim_folder='livneh2013_MET',\n",
    "                                loc_name=loc_name,\n",
    "                                dataset='dailymet_livneh2013_wrfbc',\n",
    "                                mappingfile=mappingfile, \n",
    "                                metadata=meta_file,\n",
    "                                file_colnames=None,\n",
    "                                file_delimiter=None,\n",
    "                                file_start_date=None, \n",
    "                                file_end_date=None,\n",
    "                                file_time_step=None,\n",
    "                                subset_start_date=dr[0],\n",
    "                                subset_end_date=dr[1],\n",
    "                                df_dict=ltm_0to3000)\n",
    "\n",
    "sorted(ltm_0to3000.keys())"
   ]
  },
  {
   "cell_type": "code",
   "execution_count": 25,
   "metadata": {},
   "outputs": [
    {
     "data": {
      "text/plain": [
       "datetime.timedelta(0, 629, 540549)"
      ]
     },
     "execution_count": 25,
     "metadata": {},
     "output_type": "execute_result"
    }
   ],
   "source": [
    "datetime.now()-start_time"
   ]
  },
  {
   "cell_type": "code",
   "execution_count": 26,
   "metadata": {},
   "outputs": [
    {
     "data": {
      "text/plain": [
       "['dailymet_bclivneh2013',\n",
       " 'dailymet_livneh2013',\n",
       " 'dailymet_livneh2013_wrfbc',\n",
       " 'dailymet_livneh2015',\n",
       " 'dailyvic_livneh2013',\n",
       " 'dailyvic_livneh2015',\n",
       " 'dailywrf_bcsalathe2014',\n",
       " 'dailywrf_salathe2014']"
      ]
     },
     "execution_count": 26,
     "metadata": {},
     "output_type": "execute_result"
    }
   ],
   "source": [
    "sorted(meta_file.keys())"
   ]
  },
  {
   "cell_type": "code",
   "execution_count": 27,
   "metadata": {},
   "outputs": [
    {
     "name": "stdout",
     "output_type": "stream",
     "text": [
      "<class 'pandas.core.panel.Panel'>\n",
      "Dimensions: 3 (items) x 22280 (major_axis) x 98 (minor_axis)\n",
      "Items axis: TMAX_dailymet_livneh2013 to TMAX_dailywrf_salathe2014\n",
      "Major_axis axis: 1950-01-01 00:00:00 to 2010-12-31 00:00:00\n",
      "Minor_axis axis: (0, 48.53125, -121.59375) to (97, 47.90625, -121.40625)\n",
      "Axes(0.125,0.125;0.775x0.755)\n"
     ]
    },
    {
     "data": {
      "image/png": "[encoded data removed]",
      "text/plain": [
       "<matplotlib.figure.Figure at 0x7f8d66ace9b0>"
      ]
     },
     "metadata": {},
     "output_type": "display_data"
    }
   ],
   "source": [
    "# let's compare daily values for TMAX using livneh, salathe, and the salathe-corrected livneh\n",
    "comp = ['TMAX_dailymet_livneh2013', 'TMAX_dailywrf_salathe2014', 'TMAX_dailymet_livneh2013_wrfbc']\n",
    "\n",
    "obj = dict()\n",
    "for eachkey in ltm_0to3000.keys():\n",
    "    if eachkey in comp:\n",
    "        obj[eachkey] = ltm_0to3000[eachkey] \n",
    "        panel_obj = pd.Panel.from_dict(obj)\n",
    "print(panel_obj)\n",
    "\n",
    "print(panel_obj.xs(key=(0.0, 48.53125, -121.59375), axis=2).plot())"
   ]
  },
  {
   "cell_type": "code",
   "execution_count": 28,
   "metadata": {},
   "outputs": [
    {
     "name": "stdout",
     "output_type": "stream",
     "text": [
      "<class 'pandas.core.panel.Panel'>\n",
      "Dimensions: 3 (items) x 12 (major_axis) x 98 (minor_axis)\n",
      "Items axis: month_TMAX_dailymet_livneh2013 to month_TMAX_dailywrf_salathe2014\n",
      "Major_axis axis: 1 to 12\n",
      "Minor_axis axis: (0, 48.53125, -121.59375) to (97, 47.90625, -121.40625)\n"
     ]
    },
    {
     "data": {
      "image/png": "[encoded data removed]",
      "text/plain": [
       "<matplotlib.figure.Figure at 0x7f8d70ae0748>"
      ]
     },
     "metadata": {},
     "output_type": "display_data"
    }
   ],
   "source": [
    "# let's compare monthly averages for TMAX using livneh, salathe, and the salathe-corrected livneh\n",
    "comp = ['month_TMAX_dailymet_livneh2013','month_TMAX_dailymet_livneh2013_wrfbc','month_TMAX_dailywrf_salathe2014']\n",
    "\n",
    "obj = dict()\n",
    "for eachkey in ltm_0to3000.keys():\n",
    "    if eachkey in comp:\n",
    "        obj[eachkey] = ltm_0to3000[eachkey] \n",
    "panel_obj = pd.Panel.from_dict(obj)\n",
    "print(panel_obj)\n",
    "\n",
    "fig, ax = plt.subplots()\n",
    "lws=[3, 10, 3]\n",
    "styles=['b--','go-','y--']\n",
    "\n",
    "for col, style, lw in zip(comp, styles, lws):\n",
    "    panel_obj.xs(key=(0.0, 48.53125, -121.59375), axis=2)[col].plot(style=style, lw=lw, ax=ax, legend=True)"
   ]
  },
  {
   "cell_type": "code",
   "execution_count": 35,
   "metadata": {},
   "outputs": [
    {
     "data": {
      "image/png": "[encoded data removed]",
      "text/plain": [
       "<matplotlib.figure.Figure at 0x7f8d45adde10>"
      ]
     },
     "metadata": {},
     "output_type": "display_data"
    }
   ],
   "source": [
    "comp = ['meanmonth_TMAX_dailymet_livneh2013', 'meanmonth_TMAX_dailymet_livneh2013_wrfbc', 'meanmonth_TMAX_dailywrf_salathe2014']\n",
    "\n",
    "obj = dict()\n",
    "for eachkey in ltm_0to3000.keys():\n",
    "    if eachkey in comp:\n",
    "        obj[eachkey] = ltm_0to3000[eachkey] \n",
    "\n",
    "df_obj = pd.DataFrame.from_dict(obj)\n",
    "\n",
    "fig, ax = plt.subplots()\n",
    "lws=[3, 10, 3]meanallyear_PRECIP_dailymet_livneh2013_wrfbc\n",
    "styles=['b--','go-','y--']\n",
    "\n",
    "for col, style, lws in zip(comp, styles, lws):\n",
    "    df_obj[col].plot(style=style, lw=lws, ax=ax, legend=True)"
   ]
  },
  {
   "cell_type": "code",
   "execution_count": 33,
   "metadata": {
    "scrolled": false
   },
   "outputs": [
    {
     "name": "stdout",
     "output_type": "stream",
     "text": [
      "   FID       LAT      LONG_    ELEV  \\\n",
      "0    0  48.53125 -121.59375  1113.0   \n",
      "1    1  48.46875 -121.46875   646.0   \n",
      "2    2  48.46875 -121.53125   321.0   \n",
      "3    3  48.46875 -121.59375   164.0   \n",
      "4    4  48.46875 -121.65625   369.0   \n",
      "\n",
      "                                 dailymet_livneh2013  \\\n",
      "0  /home/jovyan/work/notebooks/data/0236ae196d204...   \n",
      "1  /home/jovyan/work/notebooks/data/0236ae196d204...   \n",
      "2  /home/jovyan/work/notebooks/data/0236ae196d204...   \n",
      "3  /home/jovyan/work/notebooks/data/0236ae196d204...   \n",
      "4  /home/jovyan/work/notebooks/data/0236ae196d204...   \n",
      "\n",
      "                                dailywrf_salathe2014  \\\n",
      "0  /home/jovyan/work/notebooks/data/0236ae196d204...   \n",
      "1  /home/jovyan/work/notebooks/data/0236ae196d204...   \n",
      "2  /home/jovyan/work/notebooks/data/0236ae196d204...   \n",
      "3  /home/jovyan/work/notebooks/data/0236ae196d204...   \n",
      "4  /home/jovyan/work/notebooks/data/0236ae196d204...   \n",
      "\n",
      "                           dailymet_livneh2013_wrfbc  \n",
      "0  /home/jovyan/work/notebooks/data/0236ae196d204...  \n",
      "1  /home/jovyan/work/notebooks/data/0236ae196d204...  \n",
      "2  /home/jovyan/work/notebooks/data/0236ae196d204...  \n",
      "3  /home/jovyan/work/notebooks/data/0236ae196d204...  \n",
      "4  /home/jovyan/work/notebooks/data/0236ae196d204...  \n",
      "Number of gridded data files: 98\n",
      "Minimum elevation:  164.0 m\n",
      "Mean elevation:  1162 m\n",
      "Maximum elevation:  2216.0 m\n"
     ]
    },
    {
     "ename": "ValueError",
     "evalue": "Must provide freq argument if no data is supplied",
     "output_type": "error",
     "traceback": [
      "\u001b[0;31m---------------------------------------------------------------------------\u001b[0m",
      "\u001b[0;31mValueError\u001b[0m                                Traceback (most recent call last)",
      "\u001b[0;32m<ipython-input-33-47ce74c5b5ef>\u001b[0m in \u001b[0;36m<module>\u001b[0;34m()\u001b[0m\n\u001b[1;32m     11\u001b[0m                                \u001b[0mfile_end_date\u001b[0m\u001b[0;34m=\u001b[0m\u001b[0mdatetime\u001b[0m\u001b[0;34m(\u001b[0m\u001b[0;36m2011\u001b[0m\u001b[0;34m,\u001b[0m\u001b[0;36m12\u001b[0m\u001b[0;34m,\u001b[0m\u001b[0;36m31\u001b[0m\u001b[0;34m)\u001b[0m\u001b[0;34m,\u001b[0m\u001b[0;34m\u001b[0m\u001b[0m\n\u001b[1;32m     12\u001b[0m                                \u001b[0msubset_start_date\u001b[0m\u001b[0;34m=\u001b[0m\u001b[0mdatetime\u001b[0m\u001b[0;34m(\u001b[0m\u001b[0;36m1950\u001b[0m\u001b[0;34m,\u001b[0m\u001b[0;36m1\u001b[0m\u001b[0;34m,\u001b[0m\u001b[0;36m1\u001b[0m\u001b[0;34m)\u001b[0m\u001b[0;34m,\u001b[0m\u001b[0;34m\u001b[0m\u001b[0m\n\u001b[0;32m---> 13\u001b[0;31m                                subset_end_date=datetime(2010,12,31))    \n\u001b[0m\u001b[1;32m     14\u001b[0m \u001b[0;34m\u001b[0m\u001b[0m\n\u001b[1;32m     15\u001b[0m livbc_0to3000 = ogh.gridclim_dict(gridclim_folder=Daily_WRFraw_1950_2010,\n",
      "\u001b[0;32m/home/jovyan/work/notebooks/Observatory/ogh.py\u001b[0m in \u001b[0;36mgridclim_dict\u001b[0;34m(gridclim_folder, mappingfile, loc_name, gridclimname, dataset, metadata, min_elev, max_elev, file_start_date, file_end_date, file_time_step, file_colnames, file_delimiter, subset_start_date, subset_end_date, df_dict)\u001b[0m\n\u001b[1;32m   1398\u001b[0m                                   \u001b[0mfile_colnames\u001b[0m\u001b[0;34m=\u001b[0m\u001b[0mfile_colnames\u001b[0m\u001b[0;34m,\u001b[0m\u001b[0;34m\u001b[0m\u001b[0m\n\u001b[1;32m   1399\u001b[0m                                   \u001b[0msubset_start_date\u001b[0m\u001b[0;34m=\u001b[0m\u001b[0msubset_start_date\u001b[0m\u001b[0;34m,\u001b[0m\u001b[0;34m\u001b[0m\u001b[0m\n\u001b[0;32m-> 1400\u001b[0;31m                                   subset_end_date=subset_end_date)\n\u001b[0m\u001b[1;32m   1401\u001b[0m \u001b[0;34m\u001b[0m\u001b[0m\n\u001b[1;32m   1402\u001b[0m     \u001b[0;31m# assemble the variable dataframes to the dictionary\u001b[0m\u001b[0;34m\u001b[0m\u001b[0;34m\u001b[0m\u001b[0m\n",
      "\u001b[0;32m/home/jovyan/work/notebooks/Observatory/ogh.py\u001b[0m in \u001b[0;36mread_in_all_files\u001b[0;34m(map_df, dataset, metadata, file_start_date, file_end_date, file_time_step, file_colnames, file_delimiter, subset_start_date, subset_end_date)\u001b[0m\n\u001b[1;32m    821\u001b[0m     \u001b[0;31m#initialize dictionary and time sequence\u001b[0m\u001b[0;34m\u001b[0m\u001b[0;34m\u001b[0m\u001b[0m\n\u001b[1;32m    822\u001b[0m     \u001b[0mdf_dict\u001b[0m\u001b[0;34m=\u001b[0m\u001b[0mdict\u001b[0m\u001b[0;34m(\u001b[0m\u001b[0;34m)\u001b[0m\u001b[0;34m\u001b[0m\u001b[0m\n\u001b[0;32m--> 823\u001b[0;31m     \u001b[0mmet_daily_dates\u001b[0m\u001b[0;34m=\u001b[0m\u001b[0mpd\u001b[0m\u001b[0;34m.\u001b[0m\u001b[0mdate_range\u001b[0m\u001b[0;34m(\u001b[0m\u001b[0mfile_start_date\u001b[0m\u001b[0;34m,\u001b[0m \u001b[0mfile_end_date\u001b[0m\u001b[0;34m,\u001b[0m \u001b[0mfreq\u001b[0m\u001b[0;34m=\u001b[0m\u001b[0mfile_time_step\u001b[0m\u001b[0;34m)\u001b[0m \u001b[0;31m# daily\u001b[0m\u001b[0;34m\u001b[0m\u001b[0m\n\u001b[0m\u001b[1;32m    824\u001b[0m \u001b[0;34m\u001b[0m\u001b[0m\n\u001b[1;32m    825\u001b[0m     \u001b[0;31m# import data for all climate stations\u001b[0m\u001b[0;34m\u001b[0m\u001b[0;34m\u001b[0m\u001b[0m\n",
      "\u001b[0;32m/opt/conda/lib/python3.5/site-packages/pandas/tseries/index.py\u001b[0m in \u001b[0;36mdate_range\u001b[0;34m(start, end, periods, freq, tz, normalize, name, closed, **kwargs)\u001b[0m\n\u001b[1;32m   2022\u001b[0m     return DatetimeIndex(start=start, end=end, periods=periods,\n\u001b[1;32m   2023\u001b[0m                          \u001b[0mfreq\u001b[0m\u001b[0;34m=\u001b[0m\u001b[0mfreq\u001b[0m\u001b[0;34m,\u001b[0m \u001b[0mtz\u001b[0m\u001b[0;34m=\u001b[0m\u001b[0mtz\u001b[0m\u001b[0;34m,\u001b[0m \u001b[0mnormalize\u001b[0m\u001b[0;34m=\u001b[0m\u001b[0mnormalize\u001b[0m\u001b[0;34m,\u001b[0m \u001b[0mname\u001b[0m\u001b[0;34m=\u001b[0m\u001b[0mname\u001b[0m\u001b[0;34m,\u001b[0m\u001b[0;34m\u001b[0m\u001b[0m\n\u001b[0;32m-> 2024\u001b[0;31m                          closed=closed, **kwargs)\n\u001b[0m\u001b[1;32m   2025\u001b[0m \u001b[0;34m\u001b[0m\u001b[0m\n\u001b[1;32m   2026\u001b[0m \u001b[0;34m\u001b[0m\u001b[0m\n",
      "\u001b[0;32m/opt/conda/lib/python3.5/site-packages/pandas/util/decorators.py\u001b[0m in \u001b[0;36mwrapper\u001b[0;34m(*args, **kwargs)\u001b[0m\n\u001b[1;32m     89\u001b[0m                 \u001b[0;32melse\u001b[0m\u001b[0;34m:\u001b[0m\u001b[0;34m\u001b[0m\u001b[0m\n\u001b[1;32m     90\u001b[0m                     \u001b[0mkwargs\u001b[0m\u001b[0;34m[\u001b[0m\u001b[0mnew_arg_name\u001b[0m\u001b[0;34m]\u001b[0m \u001b[0;34m=\u001b[0m \u001b[0mnew_arg_value\u001b[0m\u001b[0;34m\u001b[0m\u001b[0m\n\u001b[0;32m---> 91\u001b[0;31m             \u001b[0;32mreturn\u001b[0m \u001b[0mfunc\u001b[0m\u001b[0;34m(\u001b[0m\u001b[0;34m*\u001b[0m\u001b[0margs\u001b[0m\u001b[0;34m,\u001b[0m \u001b[0;34m**\u001b[0m\u001b[0mkwargs\u001b[0m\u001b[0;34m)\u001b[0m\u001b[0;34m\u001b[0m\u001b[0m\n\u001b[0m\u001b[1;32m     92\u001b[0m         \u001b[0;32mreturn\u001b[0m \u001b[0mwrapper\u001b[0m\u001b[0;34m\u001b[0m\u001b[0m\n\u001b[1;32m     93\u001b[0m     \u001b[0;32mreturn\u001b[0m \u001b[0m_deprecate_kwarg\u001b[0m\u001b[0;34m\u001b[0m\u001b[0m\n",
      "\u001b[0;32m/opt/conda/lib/python3.5/site-packages/pandas/tseries/index.py\u001b[0m in \u001b[0;36m__new__\u001b[0;34m(cls, data, freq, start, end, periods, copy, name, tz, verify_integrity, normalize, closed, ambiguous, dtype, **kwargs)\u001b[0m\n\u001b[1;32m    280\u001b[0m \u001b[0;34m\u001b[0m\u001b[0m\n\u001b[1;32m    281\u001b[0m         \u001b[0;32mif\u001b[0m \u001b[0mdata\u001b[0m \u001b[0;32mis\u001b[0m \u001b[0;32mNone\u001b[0m \u001b[0;32mand\u001b[0m \u001b[0mfreq\u001b[0m \u001b[0;32mis\u001b[0m \u001b[0;32mNone\u001b[0m\u001b[0;34m:\u001b[0m\u001b[0;34m\u001b[0m\u001b[0m\n\u001b[0;32m--> 282\u001b[0;31m             raise ValueError(\"Must provide freq argument if no data is \"\n\u001b[0m\u001b[1;32m    283\u001b[0m                              \"supplied\")\n\u001b[1;32m    284\u001b[0m \u001b[0;34m\u001b[0m\u001b[0m\n",
      "\u001b[0;31mValueError\u001b[0m: Must provide freq argument if no data is supplied"
     ]
    }
   ],
   "source": [
    "#initiate new dictionary with original data\n",
    "#ltm_deltaTratioP_0to3000_v2 = dict(ltm_deltaTratioP_0to3000)\n",
    "#initiate new dictionary with original data\n",
    "livbc_0to3000 = ogh.sand_between_your_toes(gridclim_folder=Daily_MET_1915_2011,\n",
    "                               gridclimname='liv2013_met_daily',\n",
    "                               loc_name=loc_name,\n",
    "                               mappingfile=mappingfile, \n",
    "                               min_elev=0,\n",
    "                               max_elev=3000,\n",
    "                               file_start_date=datetime(1915,1,1), \n",
    "                               file_end_date=datetime(2011,12,31),\n",
    "                               subset_start_date=datetime(1950,1,1),\n",
    "                               subset_end_date=datetime(2010,12,31))    \n",
    "\n",
    "livbc_0to3000 = ogh.sand_between_your_toes(gridclim_folder=Daily_WRFraw_1950_2010,\n",
    "                               gridclimname='wrf2014_met_daily',\n",
    "                               loc_name=loc_name,\n",
    "                               mappingfile=mappingfile,\n",
    "                               min_elev=0,\n",
    "                               max_elev=3000,\n",
    "                               file_start_date=datetime(1950,1,1), \n",
    "                               file_end_date=datetime(2010,12,31),\n",
    "                               subset_start_date=datetime(1950,1,1),\n",
    "                               subset_end_date=datetime(2010,12,31),  \n",
    "                               df_dict=livbc_0to3000)\n",
    "#add corrected data to the dictionary and plot\n",
    "livbc_0to3000 = ogh.sand_between_your_toes(gridclim_folder=Daily_MET_1915_2011_WRFbc_liv,\n",
    "                                               gridclimname='livneh2013_wrf2014bc_met_daily',\n",
    "                                               loc_name=loc_name,\n",
    "                                               mappingfile=mappingfile,\n",
    "                                               min_elev=0,\n",
    "                                               max_elev=3000,\n",
    "                                               file_start_date=datetime(1915,1,1),\n",
    "                                               file_end_date=datetime(2011,12,31),\n",
    "                                               subset_start_date=datetime(1950,1,1),\n",
    "                                               subset_end_date=datetime(2010,12,31),\n",
    "                                               df_dict=livbc_0to3000)\n",
    "dictionary=livbc_0to3000\n",
    "loc_name='Sauk Watershed - Liv2013 corrected to bias corrected WRF'\n",
    "start_date=datetime(1950,1,1)\n",
    "end_date=datetime(2010,12,31)\n",
    "\n",
    "ogh.plot_meanP(dictionary, loc_name, start_date, end_date)\n",
    "ogh.plot_meanTavg(dictionary, loc_name, start_date, end_date)\n",
    "ogh.plot_meanTmin(dictionary, loc_name, start_date, end_date)\n",
    "ogh.plot_meanTmax(dictionary, loc_name, start_date, end_date)"
   ]
  },
  {
   "cell_type": "code",
   "execution_count": null,
   "metadata": {},
   "outputs": [],
   "source": [
    "#initiate new dictionary with original data\n",
    "#ltm_deltaTratioP_0to3000_v2 = dict(ltm_deltaTratioP_0to3000)\n",
    "#initiate new dictionary with original data\n",
    "livbc_1500to3000 = ogh.sand_between_your_toes(gridclim_folder=Daily_MET_1915_2011,\n",
    "                               gridclimname='liv2013_met_daily',\n",
    "                               loc_name=loc_name,\n",
    "                               mappingfile=mappingfile, \n",
    "                               min_elev=1500,\n",
    "                               max_elev=3000,\n",
    "                               file_start_date=datetime(1915,1,1), \n",
    "                               file_end_date=datetime(2011,12,31),\n",
    "                               subset_start_date=datetime(1950,1,1),\n",
    "                               subset_end_date=datetime(2010,12,31))    \n",
    "\n",
    "livbc_1500to3000 = ogh.sand_between_your_toes(gridclim_folder=Daily_WRFraw_1950_2010,\n",
    "                               gridclimname='wrf2014_met_daily',\n",
    "                               loc_name=loc_name,\n",
    "                               mappingfile=mappingfile,\n",
    "                               min_elev=1500,\n",
    "                               max_elev=3000,\n",
    "                               file_start_date=datetime(1950,1,1), \n",
    "                               file_end_date=datetime(2010,12,31),\n",
    "                               subset_start_date=datetime(1950,1,1),\n",
    "                               subset_end_date=datetime(2010,12,31),  \n",
    "                               df_dict=livbc_1500to3000)\n",
    "#add corrected data to the dictionary and plot\n",
    "livbc_1500to3000 = ogh.sand_between_your_toes(gridclim_folder=Daily_MET_1915_2011_WRFbc_liv,\n",
    "                                                gridclimname='livneh2013_wrf2014bc_met_daily',\n",
    "                                               loc_name=loc_name,\n",
    "                                               mappingfile=mappingfile,\n",
    "                                               min_elev=1500,\n",
    "                                               max_elev=3000,\n",
    "                                               file_start_date=datetime(1915,1,1),\n",
    "                                               file_end_date=datetime(2011,12,31),\n",
    "                                               subset_start_date=datetime(1950,1,1),\n",
    "                                               subset_end_date=datetime(2010,12,31),\n",
    "                                               df_dict=livbc_1500to3000)\n",
    "dictionary=livbc_1500to3000\n",
    "loc_name='Sauk Watershed - Liv2013 corrected to bias corrected WRF'\n",
    "start_date=datetime(1950,1,1)\n",
    "end_date=datetime(2010,12,31)\n",
    "\n",
    "ogh.plot_meanP(dictionary, loc_name, start_date, end_date)\n",
    "ogh.plot_meanTavg(dictionary, loc_name, start_date, end_date)\n",
    "ogh.plot_meanTmin(dictionary, loc_name, start_date, end_date)\n",
    "ogh.plot_meanTmax(dictionary, loc_name, start_date, end_date)"
   ]
  },
  {
   "cell_type": "code",
   "execution_count": null,
   "metadata": {
    "collapsed": true
   },
   "outputs": [],
   "source": [
    "#initiate new dictionary with original data\n",
    "#ltm_deltaTratioP_0to3000_v2 = dict(ltm_deltaTratioP_0to3000)\n",
    "#initiate new dictionary with original data\n",
    "livbc_0to500 = ogh.sand_between_your_toes(gridclim_folder=Daily_MET_1915_2011,\n",
    "                               gridclimname='liv2013_met_daily',\n",
    "                               loc_name=loc_name,\n",
    "                               mappingfile=mappingfile, \n",
    "                               min_elev=0,\n",
    "                               max_elev=500,\n",
    "                               file_start_date=datetime(1915,1,1), \n",
    "                               file_end_date=datetime(2011,12,31),\n",
    "                               subset_start_date=datetime(1950,1,1),\n",
    "                               subset_end_date=datetime(2010,12,31))    \n",
    "\n",
    "livbc_0to500 = ogh.sand_between_your_toes(gridclim_folder=Daily_WRFraw_1950_2010,\n",
    "                               gridclimname='wrf2014_met_daily',\n",
    "                               loc_name=loc_name,\n",
    "                               mappingfile=mappingfile,\n",
    "                               min_elev=0,\n",
    "                               max_elev=500,\n",
    "                               file_start_date=datetime(1950,1,1), \n",
    "                               file_end_date=datetime(2010,12,31),\n",
    "                               subset_start_date=datetime(1950,1,1),\n",
    "                               subset_end_date=datetime(2010,12,31),  \n",
    "                               df_dict=livbc_0to500)\n",
    "#add corrected data to the dictionary and plot\n",
    "livbc_0to500 = ogh.sand_between_your_toes(gridclim_folder=Daily_MET_1915_2011_WRFbc_liv,\n",
    "                                                gridclimname='livneh2013_wrf2014bc_met_daily',\n",
    "                                               loc_name=loc_name,\n",
    "                                               mappingfile=mappingfile,\n",
    "                                          min_elev=0,\n",
    "                               max_elev=500,\n",
    "                                               file_start_date=datetime(1915,1,1),\n",
    "                                               file_end_date=datetime(2011,12,31),\n",
    "                                               subset_start_date=datetime(1950,1,1),\n",
    "                                               subset_end_date=datetime(2010,12,31),\n",
    "                                               df_dict=livbc_0to500)\n",
    "dictionary=livbc_0to500\n",
    "loc_name='Sauk Watershed - Liv2013 corrected to bias corrected WRF'\n",
    "start_date=datetime(1950,1,1)\n",
    "end_date=datetime(2010,12,31)\n",
    "\n",
    "ogh.plot_meanP(dictionary, loc_name, start_date, end_date)\n",
    "ogh.plot_meanTavg(dictionary, loc_name, start_date, end_date)\n",
    "ogh.plot_meanTmin(dictionary, loc_name, start_date, end_date)\n",
    "ogh.plot_meanTmax(dictionary, loc_name, start_date, end_date)"
   ]
  },
  {
   "cell_type": "code",
   "execution_count": null,
   "metadata": {
    "collapsed": true
   },
   "outputs": [],
   "source": [
    "sum(dictionary['meanmonth_precip_livneh2013_wrf2014bc_met_daily']-dictionary['meanmonth_precip_wrf2014_met_daily'])\n",
    "\n",
    "#bias at P*0.95 = -3.147\n",
    "#bias at P*0.925 = -5.44\n",
    "#bias at P*0.98 = -0.395\n",
    "#bias at P*0.985 = 0.064\n",
    "#bias at P*0.984 = -0.0275\n",
    "#bias at P*0.9842 = -0.009224"
   ]
  },
  {
   "cell_type": "markdown",
   "metadata": {},
   "source": [
    "## 6. (optional) - Run MetSim to dissagregate daily data to 3-hrly DHSVM inputs"
   ]
  },
  {
   "cell_type": "markdown",
   "metadata": {},
   "source": [
    "See [Observatory_Sauk_MetSim_Python3.ipynb](https://jupyter.cuahsi.org/user/christinabandaragoda/notebooks/notebooks/data/f0f90f5645864e0d9c0e0209d0095d74/f0f90f5645864e0d9c0e0209d0095d74/data/contents/Observatory_Sauk_MetSim_Python3.ipynb) \n",
    "Edit this Markdown code hyperlink to your User Name.\n",
    "\n"
   ]
  },
  {
   "cell_type": "markdown",
   "metadata": {},
   "source": [
    "## 7. (optional) - Update VIC model input file: soil"
   ]
  },
  {
   "cell_type": "code",
   "execution_count": null,
   "metadata": {
    "collapsed": true
   },
   "outputs": [],
   "source": [
    "ogh.switchUpVICSoil(input_file=os.path.join(homedir,'soil_base'),\n",
    "                    output_file='soil',\n",
    "                    mappingfile=mappingfile,\n",
    "                    homedir=homedir)"
   ]
  },
  {
   "cell_type": "markdown",
   "metadata": {},
   "source": [
    "## 8. Save the results back into HydroShare\n",
    "<a name=\"creation\"></a>\n",
    "\n",
    "Using the `hs_utils` library, the results of the Geoprocessing steps above can be saved back into HydroShare.  First, define all of the required metadata for resource creation, i.e. *title*, *abstract*, *keywords*, *content files*.  In addition, we must define the type of resource that will be created, in this case *genericresource*.  \n",
    "\n",
    "***Note:*** Make sure you save the notebook at this point, so that all notebook changes will be saved into the new HydroShare resource."
   ]
  },
  {
   "cell_type": "markdown",
   "metadata": {},
   "source": [
    "Move each file on the server within the 'files' list to an :EXISTING\" HydroShare Generic Resource content folder.  Parent_resource is the destination resource ID for an existing Generic Resource. Files is a list of filepaths."
   ]
  },
  {
   "cell_type": "code",
   "execution_count": null,
   "metadata": {
    "collapsed": true,
    "scrolled": false
   },
   "outputs": [],
   "source": [
    "\"\"\"\n",
    "# Talk to CUAHSI about why the add file function is throwing errors\n",
    "\"\"\"\n",
    "#parent_resource = '0236ae196d204f1cba421787f38dec71'\n",
    "#files= ['Observatory_Sauk_071117.ipynb'] #os.path.join(homedir,)\n",
    "\n",
    "#response_json = hs.addContentToExistingResource(resid=parent_resource, content=files)"
   ]
  },
  {
   "cell_type": "code",
   "execution_count": null,
   "metadata": {
    "collapsed": true
   },
   "outputs": [],
   "source": [
    "!ls\n",
    "!cp ../../../../../utilities/observatory_gridded_hydromet.py ."
   ]
  },
  {
   "cell_type": "code",
   "execution_count": null,
   "metadata": {
    "collapsed": true
   },
   "outputs": [],
   "source": [
    "ThisNotebook='Observatory_Sauk_LivBC2WRF_091817.ipynb' #check name for consistency\n",
    "liv2013_tar = 'livneh2013.tar.gz'\n",
    "wrf_tar = 'Salathe2014.tar.gz'\n",
    "biascorrWRF_liv_tar = 'biascorrWRF_WRFbc.tar.gz'\n",
    "observatory_gridded_hydromet='observatory_gridded_hydromet.py'\n",
    "!tar -zcf {liv2013_tar} livneh2013\n",
    "!tar -zcf {wrf_tar} Salathe2014\n",
    "!tar -zcf {biascorrWRF_liv_tar} biascorrWRF_liv\n",
    "\n",
    "files=[ThisNotebook,\n",
    "       liv2013_tar,\n",
    "       observatory_gridded_hydromet,\n",
    "       wrf_tar,\n",
    "       biascorrWRF_liv_tar]"
   ]
  },
  {
   "cell_type": "code",
   "execution_count": null,
   "metadata": {
    "collapsed": true
   },
   "outputs": [],
   "source": [
    "# for each file downloaded onto the server folder, move to a new HydroShare Generic Resource\n",
    "title = 'Sauk-Suiattle Observatory Bias Correction Results - Livneh et al., 2013 to WRF (Salathe et al., 2014)'\n",
    "abstract = 'This output is a bias correction test to generate a hybrid gridded meteorology product'\n",
    "keywords = ['Sauk', 'climate', 'WRF','hydrometeorology'] \n",
    "rtype = 'genericresource'  \n",
    "\n",
    "# create the new resource\n",
    "resource_id = hs.createHydroShareResource(abstract, \n",
    "                                          title,\n",
    "                                          keywords=keywords, \n",
    "                                          resource_type=rtype, \n",
    "                                          content_files=files, \n",
    "                                          public=False)"
   ]
  },
  {
   "cell_type": "code",
   "execution_count": null,
   "metadata": {
    "collapsed": true
   },
   "outputs": [],
   "source": []
  }
 ],
 "metadata": {
  "anaconda-cloud": {},
  "kernelspec": {
   "display_name": "Python 3",
   "language": "python",
   "name": "python3"
  },
  "language_info": {
   "codemirror_mode": {
    "name": "ipython",
    "version": 3
   },
   "file_extension": ".py",
   "mimetype": "text/x-python",
   "name": "python",
   "nbconvert_exporter": "python",
   "pygments_lexer": "ipython3",
   "version": "3.5.3"
  }
 },
 "nbformat": 4,
 "nbformat_minor": 1
}
